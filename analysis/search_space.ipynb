{
 "cells": [
  {
   "cell_type": "code",
   "execution_count": 13,
   "metadata": {},
   "outputs": [
    {
     "name": "stdout",
     "output_type": "stream",
     "text": [
      "2.34881024\n"
     ]
    }
   ],
   "source": [
    "import numpy as np\n",
    "# the layer number of each stage\n",
    "stage_layer_max = [2, 4, 14, 2]\n",
    "# the channel number of each layer\n",
    "layer = np.array([64, 128, 256, 512])\n",
    "# the descending step of channel \n",
    "step = 8 \n",
    "op = ['repvgg','vgg'] # every stage\n",
    "maxpool = [True,False]\n",
    "ratio = [0.125, 0.25, 0.375, 0.5, 0.625, 0.75, 0.875, 1.0]\n",
    "def search_space(stage_layer, layer):\n",
    "    sum = 1\n",
    "    for i in stage_layer_max:\n",
    "        sum *= i\n",
    "    for j in layer:\n",
    "        sum *= len(ratio)\n",
    "    return sum*16*16\n",
    "print(search_space(stage_layer_max,layer)/1e8)"
   ]
  },
  {
   "cell_type": "code",
   "execution_count": 3,
   "metadata": {},
   "outputs": [
    {
     "data": {
      "text/plain": [
       "2"
      ]
     },
     "execution_count": 3,
     "metadata": {},
     "output_type": "execute_result"
    }
   ],
   "source": [
    "from random import choices \n",
    "choices(range(1,3))[0]"
   ]
  },
  {
   "cell_type": "code",
   "execution_count": 4,
   "metadata": {},
   "outputs": [
    {
     "data": {
      "text/plain": [
       "0.75"
      ]
     },
     "execution_count": 4,
     "metadata": {},
     "output_type": "execute_result"
    }
   ],
   "source": [
    "choices(ratio)[0]"
   ]
  },
  {
   "cell_type": "code",
   "execution_count": 34,
   "metadata": {},
   "outputs": [],
   "source": [
    "import numpy as np\n",
    "from random import choices \n",
    "\n",
    "# the layer number of each stage\n",
    "stage_layer_max = [2, 4, 14, 2]\n",
    "# the channel number of each layer\n",
    "layer_num_max = [64, 128, 256, 512]\n",
    "# the descending step of channel \n",
    "step = 8 \n",
    "op = ['repvgg','vgg'] # every stage\n",
    "maxpool = [True,False]\n",
    "ratio = [0.125, 0.25, 0.375, 0.5, 0.625, 0.75, 0.875, 1.0]\n",
    "datasets = [\"cifar10\",\"cifar100\"]\n",
    "\n",
    "\n",
    "# operation \n",
    "# dataset = choices(datasets)[0]\n",
    "# class_num = 10 if dataset == \"cifar10\" else 100\n",
    "import yaml\n",
    "import os \n",
    "import collections\n",
    "def save_dict_to_yaml(dict_value: dict, save_path: str):\n",
    "    \"\"\"dict保存为yaml\"\"\"\n",
    "    with open(save_path, 'w') as file:\n",
    "        file.write(yaml.dump(dict_value, allow_unicode=True))\n",
    " \n",
    "def read_yaml_to_dict(yaml_path: str):\n",
    "    with open(yaml_path) as file:\n",
    "        dict_value = yaml.load(file.read(), Loader=yaml.FullLoader)\n",
    "        return dict_value\n",
    "savedirs = []\n",
    "md_fmts = []\n",
    "for n in range(12,100):\n",
    "    config = {}\n",
    "    # 随机生成模型\n",
    "    stage_layer = [choices(range(1,stage_layer_max[0]+1))[0],choices(range(1,stage_layer_max[1]+1))[0],choices(range(1,stage_layer_max[2]+1))[0],choices(range(1,stage_layer_max[3]+1))[0]]\n",
    "    # stage_layer\n",
    "    stage_ratio = [choices(ratio)[0],choices(ratio)[0],choices(ratio)[0],choices(ratio)[0]]\n",
    "    # stage_ratio\n",
    "    with_maxpool = [choices(maxpool)[0],choices(maxpool)[0],choices(maxpool)[0],choices(maxpool)[0]]\n",
    "    # with_maxpool\n",
    "    op_type = [choices(op)[0],choices(op)[0],choices(op)[0],choices(op)[0],choices(op)[0]]\n",
    "    dir = str(n)+'-stage-' + str(stage_layer[0]) + '_' + str(stage_layer[1]) + '_' + str(stage_layer[2]) + '_' + str(stage_layer[3]) + '-ratio-' \\\n",
    "        + str(stage_ratio[0]) + '_' + str(stage_ratio[1]) + '_' + str(stage_ratio[2]) + '_' + str(stage_ratio[3]) + \\\n",
    "            '-op-' + str(op_type[0]) + '_' + str(op_type[1]) + '_' + str(op_type[2]) + '_' + str(op_type[3]) + '_' + str(op_type[4]) + '-max-' + \\\n",
    "                str(with_maxpool[0]) + '_' + str(with_maxpool[1]) + '_' + str(with_maxpool[2]) + '_' + str(with_maxpool[3])\n",
    "    md_fmt = \"|\"+ str(n)+'|' + str(stage_layer[0]) + '-' + str(stage_layer[1]) + '-' + str(stage_layer[2]) + '-' + str(stage_layer[3]) + '|' \\\n",
    "        + str(stage_ratio[0]) + '-' + str(stage_ratio[1]) + '-' + str(stage_ratio[2]) + '-' + str(stage_ratio[3]) + \\\n",
    "            '|' + str(op_type[0]) + '-' + str(op_type[1]) + '-' + str(op_type[2]) + '-' + str(op_type[3]) + '-' + str(op_type[4]) + '|' + \\\n",
    "                str(with_maxpool[0]) + '-' + str(with_maxpool[1]) + '-' + str(with_maxpool[2]) + '-' + str(with_maxpool[3]) + \"|\" * 3\n",
    "\n",
    "    config['model'] = {'stage_layer':stage_layer,'stage_ratio': stage_ratio ,'with_maxpool':with_maxpool,'op_type':op_type,\"layer_num_max\":layer_num_max}\n",
    "    config['train'] = {'start_epoch': 0, \"epochs\": 300, \"warmup_epochs\": 20, \"warmup_lr\": 1.0e-2, \n",
    "                    \"lr_scheduler\":{\"min_lr\":1.0e-5,\"decay_epochs\":30,\"decay_rate\":0.1},\"batch_size\":256,\"loss\":\"crossentropy\",\"workers\":4,\n",
    "                    \"optimizer\":{\"name\":\"SGD\",\"base_lr\":0.01,\"repvgg_lr\":0.001,\"momentum\":0.9,\"eps\":1.0e-8,\"betas\":[0.9,0.999],\"weight_decay_param\":{\"base_decay\":5e-4,\"repvgg_decay\":0.05,\"echo\":False}},\n",
    "                    \"label_smoothing\":0.1,\"clip_grad\":0.0,\"ema_alpha\":0.0,\"ema_update_period\":8,\"use_l2_norm\":True,\n",
    "                    \"no_weight_decay\": \"rbr_dense\"}\n",
    "    config['val'] = {\"batch_size\":128,\"workers\":4} \n",
    "    config['output'] = {\"print_freq\":100,\"epoch_print_freq\":1,\"save_freq\":20,\n",
    "                        \"dir\": os.path.join(\"./log\",dir), \"name\": str(n)}\n",
    "    save_path = os.path.join(\"./config\",dir+'.yaml')\n",
    "    md_fmts.append(md_fmt)\n",
    "    savedirs.append(save_path)\n",
    "    save_dict_to_yaml(config,save_path)\n",
    "\n",
    "\n"
   ]
  },
  {
   "cell_type": "code",
   "execution_count": 37,
   "metadata": {},
   "outputs": [],
   "source": [
    "# for md in md_fmts:\n",
    "#     print(md)\n",
    "# for savedir in savedirs:\n",
    "#     print(\"python3 train.py --config ./config/\" + savedir)"
   ]
  },
  {
   "cell_type": "code",
   "execution_count": 27,
   "metadata": {},
   "outputs": [
    {
     "data": {
      "text/plain": [
       "'|99|2-1-5-1|0.625-1.0-0.5-0.75|vgg-vgg-vgg-vgg-repvgg|True-False-False-True|||'"
      ]
     },
     "execution_count": 27,
     "metadata": {},
     "output_type": "execute_result"
    }
   ],
   "source": [
    "md_fmt = \"|\"+ str(n)+'|' + str(stage_layer[0]) + '-' + str(stage_layer[1]) + '-' + str(stage_layer[2]) + '-' + str(stage_layer[3]) + '|' \\\n",
    "        + str(stage_ratio[0]) + '-' + str(stage_ratio[1]) + '-' + str(stage_ratio[2]) + '-' + str(stage_ratio[3]) + \\\n",
    "            '|' + str(op_type[0]) + '-' + str(op_type[1]) + '-' + str(op_type[2]) + '-' + str(op_type[3]) + '-' + str(op_type[4]) + '|' + \\\n",
    "                str(with_maxpool[0]) + '-' + str(with_maxpool[1]) + '-' + str(with_maxpool[2]) + '-' + str(with_maxpool[3]) + \"|\" * 3\n",
    "md_fmt "
   ]
  },
  {
   "cell_type": "code",
   "execution_count": 38,
   "metadata": {},
   "outputs": [],
   "source": [
    "# import os\n",
    "# names = os.listdir(\"./config/\")\n",
    "# names.sort()\n",
    "# for num in range(0,12):\n",
    "#     print(\"python3 train.py --config ./config/\"+names[num])"
   ]
  },
  {
   "cell_type": "code",
   "execution_count": 45,
   "metadata": {},
   "outputs": [],
   "source": [
    "import os\n",
    "names = os.listdir(\"./config/\")\n",
    "    # print(name)\n",
    "names.sort()\n",
    "for num in range(0,100):\n",
    "    # print(names[num])\n",
    "    name = names[num].replace(\".yaml\",\"\").split(\"-\")\n",
    "    \n",
    "    name.remove(name[1])\n",
    "    name.remove(name[2])\n",
    "    name.remove(name[3])\n",
    "    name.remove(name[4])\n",
    "    for i in range(len(name)):\n",
    "        name[i] = name[i].replace(\"_\",\"-\")\n",
    "    # print(name)\n",
    "    # print(\"|\"+\"|\".join(name)+\"|\"*3)\n",
    "    # for n in names[0].split(\"-\"):\n",
    "\n"
   ]
  },
  {
   "cell_type": "code",
   "execution_count": null,
   "metadata": {},
   "outputs": [],
   "source": []
  },
  {
   "cell_type": "code",
   "execution_count": null,
   "metadata": {},
   "outputs": [],
   "source": [
    "# 训练自动生成yaml\n",
    "# loss acc train val\n",
    "# 存test最好的\n",
    "# loss crossentropy\n",
    "# SGD\n",
    "# lr 0.1，0.001（repvgg\n",
    "# weight decay 0.005，0.05（repvgg\n",
    "# 直接量化repvgg， repvgg block 的量化，需要考虑lr和weight decay\n",
    "\n",
    "# 随机生成模型配置，训\n",
    "# 得到小数据集\n",
    "# acc predictor， 是配置 （nas + predictor\n",
    "# 搜索算法 RL EL （chip memory 约束项，要提acc，降latency\n",
    "# 硬件性能 \n",
    "# hardware performance \n",
    "# 硬件结构固定，公式计算硬件性能\n",
    "# few-shot learning\n",
    "# meta-learning\n",
    "# 搜索考虑memory\n",
    "\n",
    "# 1. search space\n",
    "# 2. 重点是predictor\n",
    "# 3. \n",
    "\n",
    "# random genea\n",
    "# 进一步， 搜索对不同硬件都高效的网络\n",
    "# \n",
    "\n"
   ]
  },
  {
   "cell_type": "code",
   "execution_count": 103,
   "metadata": {},
   "outputs": [],
   "source": [
    "# def read_yaml_to_dict(yaml_path: str):\n",
    "#     with open(yaml_path) as file:\n",
    "#         dict_value = yaml.load(file.read(), Loader=yaml.FullLoader)\n",
    "#         return dict_value\n",
    "cfg = read_yaml_to_dict(\"/home/qhy/Reserach/AICAS/config/stage-2_3_12_1-ratio-0.625_0.125_0.125_0.75-op-vgg_vgg_vgg_vgg-max-False_True_True_False.yaml\")\n"
   ]
  },
  {
   "cell_type": "code",
   "execution_count": 107,
   "metadata": {},
   "outputs": [
    {
     "data": {
      "text/plain": [
       "{'base_lr': 0.1,\n",
       " 'betas': [0.9, 0.999],\n",
       " 'eps': 1e-08,\n",
       " 'momentum': 0.9,\n",
       " 'name': 'SGD',\n",
       " 'repvgg_lr': 0.001,\n",
       " 'weight_decay_param': {'base_decay': 0.005,\n",
       "  'echo': False,\n",
       "  'repvgg_decay': 0.05}}"
      ]
     },
     "execution_count": 107,
     "metadata": {},
     "output_type": "execute_result"
    }
   ],
   "source": [
    "cfg['train'][\"optimizer\"]"
   ]
  },
  {
   "cell_type": "code",
   "execution_count": 7,
   "metadata": {},
   "outputs": [
    {
     "name": "stderr",
     "output_type": "stream",
     "text": [
      "/home/qhy/anaconda3/envs/torch/lib/python3.9/site-packages/tqdm/auto.py:22: TqdmWarning: IProgress not found. Please update jupyter and ipywidgets. See https://ipywidgets.readthedocs.io/en/stable/user_install.html\n",
      "  from .autonotebook import tqdm as notebook_tqdm\n"
     ]
    }
   ],
   "source": [
    "import torch\n",
    "import torch.nn as nn\n",
    "import torch.utils.checkpoint as checkpoint\n",
    "import numpy as np"
   ]
  },
  {
   "cell_type": "code",
   "execution_count": 52,
   "metadata": {},
   "outputs": [],
   "source": [
    "def make_layer(stage_num,layer_num, channel_num_in , channel_num_out, op_type, with_maxpool):\n",
    "    channel_nums_in = [channel_num_in]+[channel_num_out]*(layer_num-1)\n",
    "    layers = []\n",
    "    if with_maxpool == True:\n",
    "        layers.append((\"maxpool\",nn.MaxPool2d(2,2)))\n",
    "        if op_type == 'vgg':\n",
    "            layers.append((\"stage_{}_0_vgg\".format(stage_num),VGGBlock(channel_num_in,channel_num_out,kernel_size=3,stride=1)))\n",
    "            layers += [(\"stage_{}_{}_vgg\".format(stage_num,i),VGGBlock(channel_num_out,channel_num_out,3)) for i in range(1,layer_num)]\n",
    "        else:\n",
    "            layers.append((\"stage_{}_0_repvgg\".format(stage_num),RepVGGBlock(channel_num_in,channel_num_out,kernel_size=3,stride=1,padding=1)))\n",
    "            layers += [(\"stage_{}_{}_repvgg\".format(stage_num,i),RepVGGBlock(channel_num_out,channel_num_out,kernel_size=3,stride=1,padding=1)) for i in range(1,layer_num)]\n",
    "            \n",
    "    else :\n",
    "        if op_type == 'vgg':\n",
    "            layers.append((\"stage_{}_0_vgg\".format(stage_num),VGGBlock(channel_num_in,channel_num_out,kernel_size=3,stride=2)))\n",
    "            layers += [(\"stage_{}_{}_vgg\".format(stage_num,i),VGGBlock(channel_num_out,channel_num_out,3)) for i in range(1,layer_num)]\n",
    "        else:\n",
    "            layers.append((\"stage_{}_0_repvgg\".format(stage_num),RepVGGBlock(channel_num_in,channel_num_out,kernel_size=3,stride=2))) \n",
    "            layers += [(\"stage_{}_{}_repvgg\".format(stage_num,i),RepVGGBlock(channel_num_out,channel_num_out,kernel_size=3,stride=1,padding=1)) for i in range(1,layer_num)]\n",
    "    return nn.Sequential(OrderedDict(layers))\n",
    "            \n",
    "        \n",
    "# make_layer(1,3,3,6,'repvgg',True)"
   ]
  },
  {
   "cell_type": "code",
   "execution_count": 43,
   "metadata": {},
   "outputs": [
    {
     "data": {
      "text/plain": [
       "{'layer_num_max': [64, 128, 256, 512],\n",
       " 'op_type': ['repvgg', 'vgg', 'vgg', 'repvgg'],\n",
       " 'stage_layer': [1, 1, 7, 1],\n",
       " 'stage_ratio': [0.625, 0.75, 0.125, 0.875],\n",
       " 'with_maxpool': [True, False, True, True]}"
      ]
     },
     "execution_count": 43,
     "metadata": {},
     "output_type": "execute_result"
    }
   ],
   "source": [
    "cfg['model']\n"
   ]
  },
  {
   "cell_type": "code",
   "execution_count": 112,
   "metadata": {},
   "outputs": [
    {
     "name": "stdout",
     "output_type": "stream",
     "text": [
      "torch.Size([1, 10])\n"
     ]
    }
   ],
   "source": [
    "import torch\n",
    "class Net(nn.Module):\n",
    "    def __init__(self,config,num_classes):\n",
    "        super(Net, self).__init__()\n",
    "        self.stage_0 = make_layer(0,config[\"model\"][\"stage_layer\"][0],3,int(config[\"model\"][\"layer_num_max\"][0]*config[\"model\"][\"stage_ratio\"][0]),config[\"model\"][\"op_type\"][0],config[\"model\"][\"with_maxpool\"][0])\n",
    "        self.stage_1 = make_layer(1,config[\"model\"][\"stage_layer\"][1],int(config[\"model\"][\"layer_num_max\"][0]*config[\"model\"][\"stage_ratio\"][0]),int(config[\"model\"][\"layer_num_max\"][1]*config[\"model\"][\"stage_ratio\"][1]),config[\"model\"][\"op_type\"][1],config[\"model\"][\"with_maxpool\"][1])\n",
    "        self.stage_2 = make_layer(2,config[\"model\"][\"stage_layer\"][2],int(config[\"model\"][\"layer_num_max\"][1]*config[\"model\"][\"stage_ratio\"][1]),int(config[\"model\"][\"layer_num_max\"][2]*config[\"model\"][\"stage_ratio\"][2]),config[\"model\"][\"op_type\"][2],config[\"model\"][\"with_maxpool\"][2])\n",
    "        self.stage_3 = make_layer(3,config[\"model\"][\"stage_layer\"][3],int(config[\"model\"][\"layer_num_max\"][2]*config[\"model\"][\"stage_ratio\"][2]),int(config[\"model\"][\"layer_num_max\"][3]*config[\"model\"][\"stage_ratio\"][3]),config[\"model\"][\"op_type\"][3],config[\"model\"][\"with_maxpool\"][3])\n",
    "        self.gap = nn.AdaptiveAvgPool2d(output_size=1)\n",
    "        self.linear = nn.Linear(int(config[\"model\"][\"layer_num_max\"][3]*config[\"model\"][\"stage_ratio\"][3]), num_classes)\n",
    "    def forward(self, input):\n",
    "        out = self.stage_0(input)\n",
    "        for stage in (self.stage_1, self.stage_2,  self.stage_3):\n",
    "            for block in stage:\n",
    "                out = block(out)\n",
    "        out = self.gap(out)\n",
    "        out = self.linear(out.view(out.size(0), -1))\n",
    "        return out\n",
    "n = Net(cfg,10)\n",
    "inp = torch.randn(1,3,32,32)\n",
    "o = n(inp)\n",
    "print(o.shape)"
   ]
  },
  {
   "cell_type": "code",
   "execution_count": 100,
   "metadata": {},
   "outputs": [],
   "source": [
    "repvgg_stage = torch.nn.ModuleList()\n",
    "net = n\n",
    "for stage in (net.stage_0,net.stage_1,net.stage_2,net.stage_3):\n",
    "    for name, module in stage._modules.items():\n",
    "        if \"repvgg\" in name:\n",
    "            repvgg_stage.append(stage)\n",
    "repvgg_stage_params = list(map(id,repvgg_stage.parameters()))\n",
    "base_stage_param = filter(lambda p:id(p) not in repvgg_stage_params,net.parameters())\n",
    "optimizer = torch.optim.SGD([{'params':base_stage_param,'lr':0.1,\"weight_decay\":0.005},\n",
    "                             {'params':repvgg_stage.parameters(),'lr':0.001,\"weight_decay\":0.05}])\n"
   ]
  },
  {
   "cell_type": "code",
   "execution_count": 113,
   "metadata": {},
   "outputs": [],
   "source": [
    "# optimizer"
   ]
  },
  {
   "cell_type": "code",
   "execution_count": 90,
   "metadata": {},
   "outputs": [],
   "source": [
    "for stage in (n.stage_0,n.stage_1,n.stage_2,n.stage_3):\n",
    "    for name, module in stage._modules.items():\n",
    "        if \"repvgg\" in name:\n",
    "            module.switch_to_deploy()"
   ]
  },
  {
   "cell_type": "code",
   "execution_count": 92,
   "metadata": {},
   "outputs": [],
   "source": [
    "# n"
   ]
  },
  {
   "cell_type": "code",
   "execution_count": 93,
   "metadata": {},
   "outputs": [],
   "source": [
    "# type(n.stage_0.stage_0_0_repvgg)\n",
    "# for i in n.stage_0.modules():\n",
    "#     print(i.name)\n",
    "#     break\n",
    "# for name, module in n.stage_0._modules.items():\n",
    "#     print(module)\n",
    "# for name, module in n.stage_0._modules.items():\n",
    "#     # print(\"名称:{}\".format(name))\n",
    "#     if \"repvgg\" in name:\n",
    "#         module.switch_to_deploy()\n",
    "# for name, module in n.stage_0._modules.items():\n",
    "#     # print(name)\n",
    "#     print(module)\n",
    "    "
   ]
  },
  {
   "cell_type": "code",
   "execution_count": 50,
   "metadata": {},
   "outputs": [],
   "source": [
    "n.stage_0.stage_0_0.switch_to_deploy()"
   ]
  },
  {
   "cell_type": "code",
   "execution_count": null,
   "metadata": {},
   "outputs": [],
   "source": [
    "    # def switch_to_deploy(self):\n",
    "    #     if hasattr(self, 'rbr_reparam'):\n",
    "    #         return\n",
    "    #     kernel, bias = self.get_equivalent_kernel_bias()\n",
    "    #     self.rbr_reparam = nn.Conv2d(in_channels=self.rbr_dense.conv.in_channels, out_channels=self.rbr_dense.conv.out_channels, kernel_size=self.rbr_dense.conv.kernel_size, stride=self.rbr_dense.conv.stride, padding=self.rbr_dense.conv.padding, dilation=self.rbr_dense.conv.dilation, groups=self.rbr_dense.conv.groups, bias=True)\n",
    "    #     self.rbr_reparam.weight.data = kernel\n",
    "    #     self.rbr_reparam.bias.data = bias\n",
    "    #     self.__delattr__('rbr_dense')\n",
    "    #     self.__delattr__('rbr_1x1')\n",
    "    #     if hasattr(self, 'rbr_identity'):\n",
    "    #         self.__delattr__('rbr_identity')\n",
    "    #     if hasattr(self, 'id_tensor'):\n",
    "    #         self.__delattr__('id_tensor')\n",
    "    #     self.deploy = True"
   ]
  },
  {
   "cell_type": "code",
   "execution_count": 32,
   "metadata": {},
   "outputs": [],
   "source": [
    "def conv_bn(in_channels, out_channels, kernel_size, stride, padding, groups=1):\n",
    "    result = nn.Sequential()\n",
    "    result.add_module('conv', nn.Conv2d(in_channels=in_channels, out_channels=out_channels, kernel_size=kernel_size, stride=stride, padding=padding, groups=groups, bias=False))\n",
    "    result.add_module('bn', nn.BatchNorm2d(num_features=out_channels))\n",
    "    return result"
   ]
  },
  {
   "cell_type": "code",
   "execution_count": 12,
   "metadata": {},
   "outputs": [
    {
     "data": {
      "text/plain": [
       "Sequential(\n",
       "  (conv): Conv2d(3, 6, kernel_size=(3, 3), stride=(1, 1), padding=(1, 1))\n",
       "  (bn): BatchNorm2d(6, eps=1e-05, momentum=0.1, affine=True, track_running_stats=True)\n",
       "  (relu): ReLU(inplace=True)\n",
       ")"
      ]
     },
     "execution_count": 12,
     "metadata": {},
     "output_type": "execute_result"
    }
   ],
   "source": [
    "import torch.nn as nn\n",
    "from collections import OrderedDict \n",
    "def VGGBlock(in_channels, out_channels, kernel_size, stride = 1, padding = 1, dilation = 1, groups = 1, padding_mode = 'zeros'):\n",
    "    conv2d = nn.Conv2d(in_channels, out_channels, kernel_size=kernel_size, padding=1 ,dilation = 1, groups = 1, padding_mode = 'zeros')\n",
    "    layers = nn.Sequential(OrderedDict([\n",
    "      (\"conv\",conv2d),\n",
    "      (\"bn\",nn.BatchNorm2d(out_channels)),\n",
    "      (\"relu\",nn.ReLU(inplace=True))]))\n",
    "    return layers\n",
    "VGGBlock(3,6,3)\n",
    "\n",
    "# conv_module = nn.Sequential(OrderedDict([\n",
    "#           ('conv1', nn.Conv2d(1,20,5)),\n",
    "#           ('relu1', nn.ReLU()),\n",
    "#           ('conv2', nn.Conv2d(20,64,5)),\n",
    "#           ('relu2', nn.ReLU())\n",
    "#         ]))\n",
    "# conv_module "
   ]
  },
  {
   "cell_type": "code",
   "execution_count": 21,
   "metadata": {},
   "outputs": [
    {
     "data": {
      "text/plain": [
       "[0, 1, 2, 3, 4, 5, 6, 7]"
      ]
     },
     "execution_count": 21,
     "metadata": {},
     "output_type": "execute_result"
    }
   ],
   "source": [
    "[i for i in range(8)]"
   ]
  },
  {
   "cell_type": "code",
   "execution_count": 114,
   "metadata": {},
   "outputs": [],
   "source": [
    "\n",
    "# nn.Sequential(OrderedDict([\n",
    "#     (\"stage_0_{}\".format(i),VGGBlock(3,6,3)) for i in range(3)\n",
    "    \n",
    "#     ]))"
   ]
  },
  {
   "cell_type": "code",
   "execution_count": 20,
   "metadata": {},
   "outputs": [
    {
     "data": {
      "text/plain": [
       "torch.Size([1, 6, 32, 32])"
      ]
     },
     "execution_count": 20,
     "metadata": {},
     "output_type": "execute_result"
    }
   ],
   "source": [
    "a = nn.Sequential(OrderedDict([\n",
    "    (\"stage_0_1\",VGGBlock(3,6,3)),\n",
    "    (\"stage_0_2\",VGGBlock(6,6,3)),\n",
    "    ]))\n",
    "b = torch.randn(1,3,32,32)\n",
    "c = a(b)\n",
    "c.shape"
   ]
  },
  {
   "cell_type": "code",
   "execution_count": 25,
   "metadata": {},
   "outputs": [],
   "source": [
    "# stage = nn.Sequential()\n",
    "# stage.append(OrderedDict([(\"stage_0\",VGGBlock(3,6,3))]))\n",
    "# # stage.append(VGGBlock(6,6,3))\n",
    "# stage"
   ]
  },
  {
   "cell_type": "code",
   "execution_count": 26,
   "metadata": {},
   "outputs": [],
   "source": []
  },
  {
   "cell_type": "code",
   "execution_count": 31,
   "metadata": {},
   "outputs": [],
   "source": [
    "class RepVGGBlock(nn.Module):\n",
    "    \"\"\"\n",
    "        Naive RepVGG without SE module\n",
    "    \"\"\"\n",
    "    def __init__(self, in_channels, out_channels, kernel_size, stride=1, padding=0, dilation=1, groups=1, padding_mode='zeros', deploy=False):\n",
    "        super(RepVGGBlock, self).__init__()\n",
    "        self.deploy = deploy\n",
    "        self.groups = groups\n",
    "        self.in_channels = in_channels\n",
    "\n",
    "        self.non_linearity = nn.ReLU()\n",
    "\n",
    "        assert kernel_size == 3\n",
    "        assert padding == 1\n",
    "\n",
    "        padding_11 = padding - kernel_size // 2\n",
    "\n",
    "        if deploy:\n",
    "            self.rbr_reparam = nn.Conv2d(in_channels=in_channels, out_channels=out_channels, kernel_size=kernel_size, stride=stride, padding=padding, dilation=dilation, groups=groups, bias=True, padding_mode=padding_mode)\n",
    "        else:\n",
    "            self.rbr_identity = nn.BatchNorm2d(num_features=out_channels) if out_channels == in_channels and stride == 1 else None\n",
    "            self.rbr_dense = conv_bn(in_channels=in_channels, out_channels=out_channels, kernel_size=kernel_size, stride=stride, padding=padding, groups=groups)\n",
    "            self.rbr_1x1 = conv_bn(in_channels=in_channels, out_channels=out_channels, kernel_size=1, stride=stride, padding=padding_11, groups=groups)\n",
    "    \n",
    "    def forward(self, inputs):\n",
    "        if hasattr(self, 'rbr_reparam'):\n",
    "            return self.non_linearity(self.rbr_reparam(inputs))\n",
    "        \n",
    "        if self.rbr_identity is None:\n",
    "            id_out = 0\n",
    "        else:\n",
    "            id_out = self.rbr_identity(inputs)\n",
    "        \n",
    "        return self.non_linearity(self.rbr_dense(inputs) + self.rbr_1x1(inputs) + id_out)\n",
    "    \n",
    "    def get_custom_L2(self):\n",
    "        K3 = self.rbr_dense.conv.weight\n",
    "        K1 = self.rbr_1x1.conv.weight\n",
    "        t3 = (self.rbr_dense.bn.weight / ((self.rbr_dense.bn.running_var + self.rbr_dense.bn.eps).sqrt())).reshape(-1, 1, 1, 1).detach()\n",
    "        t1 = (self.rbr_1x1.bn.weight / ((self.rbr_1x1.bn.running_var + self.rbr_1x1.bn.eps).sqrt())).reshape(-1, 1, 1, 1).detach()\n",
    "\n",
    "        l2_loss_circle = (K3 ** 2).sum() - (K3[:, :, 1:2, 1:2] ** 2).sum()      # The L2 loss of the \"circle\" of weights in 3x3 kernel. Use regular L2 on them.\n",
    "        eq_kernel = K3[:, :, 1:2, 1:2] * t3 + K1 * t1                           # The equivalent resultant central point of 3x3 kernel.\n",
    "        l2_loss_eq_kernel = (eq_kernel ** 2 / (t3 ** 2 + t1 ** 2)).sum()        # Normalize for an L2 coefficient comparable to regular L2.\n",
    "        return l2_loss_eq_kernel + l2_loss_circle\n",
    "\n",
    "    def get_equivalent_kernel_bias(self):\n",
    "        kernel3x3, bias3x3 = self._fuse_bn_tensor(self.rbr_dense)\n",
    "        kernel1x1, bias1x1 = self._fuse_bn_tensor(self.rbr_1x1)\n",
    "        kernelid, biasid = self._fuse_bn_tensor(self.rbr_identity)\n",
    "        return kernel3x3 + self._pad_1x1_to_3x3_tensor(kernel1x1) + kernelid, bias3x3 + bias1x1 + biasid\n",
    "\n",
    "    def _pad_1x1_to_3x3_tensor(self, kernel1x1):\n",
    "        if kernel1x1 is None:\n",
    "            return 0\n",
    "        else:\n",
    "            return torch.nn.functional.pad(kernel1x1, [1, 1, 1, 1])\n",
    "    \n",
    "    def _fuse_bn_tensor(self, branch):\n",
    "        if branch is None:\n",
    "            return 0, 0\n",
    "        if isinstance(branch, nn.Sequential):\n",
    "            kernel = branch.conv.weight\n",
    "            running_mean = branch.bn.running_mean\n",
    "            running_var = branch.bn.running_var\n",
    "            gamma = branch.bn.weight\n",
    "            beta = branch.bn.bias\n",
    "            eps = branch.bn.eps\n",
    "        else:\n",
    "            assert isinstance(branch, nn.BatchNorm2d)\n",
    "            if not hasattr(self, 'id_tensor'):\n",
    "                input_dim = self.in_channels // self.groups\n",
    "                kernel_value = np.zeros((self.in_channels, input_dim, 3, 3), dtype=np.float32)\n",
    "                for i in range(self.in_channels):\n",
    "                    kernel_value[i, i % input_dim, 1, 1] = 1\n",
    "                self.id_tensor = torch.from_numpy(kernel_value).to(branch.weight.device)\n",
    "            kernel = self.id_tensor\n",
    "            running_mean = branch.running_mean\n",
    "            running_var = branch.running_var\n",
    "            gamma = branch.weight\n",
    "            beta = branch.bias\n",
    "            eps = branch.eps\n",
    "        std = (running_var + eps).sqrt()\n",
    "        t = (gamma / std).reshape(-1, 1, 1, 1)\n",
    "        return kernel * t, beta - running_mean * gamma / std\n",
    "    \n",
    "    def switch_to_deploy(self):\n",
    "        if hasattr(self, 'rbr_reparam'):\n",
    "            return\n",
    "        kernel, bias = self.get_equivalent_kernel_bias()\n",
    "        self.rbr_reparam = nn.Conv2d(in_channels=self.rbr_dense.conv.in_channels, out_channels=self.rbr_dense.conv.out_channels, kernel_size=self.rbr_dense.conv.kernel_size, stride=self.rbr_dense.conv.stride, padding=self.rbr_dense.conv.padding, dilation=self.rbr_dense.conv.dilation, groups=self.rbr_dense.conv.groups, bias=True)\n",
    "        self.rbr_reparam.weight.data = kernel\n",
    "        self.rbr_reparam.bias.data = bias\n",
    "        self.__delattr__('rbr_dense')\n",
    "        self.__delattr__('rbr_1x1')\n",
    "        if hasattr(self, 'rbr_identity'):\n",
    "            self.__delattr__('rbr_identity')\n",
    "        if hasattr(self, 'id_tensor'):\n",
    "            self.__delattr__('id_tensor')\n",
    "        self.deploy = True"
   ]
  },
  {
   "cell_type": "code",
   "execution_count": 32,
   "metadata": {},
   "outputs": [
    {
     "name": "stdout",
     "output_type": "stream",
     "text": [
      "torch.Size([1, 6, 32, 32])\n"
     ]
    }
   ],
   "source": [
    "import torch\n",
    "class Net(nn.Module):\n",
    "    def __init__(self):\n",
    "        super(Net, self).__init__()\n",
    "        self.stage_1 = RepVGGBlock(3,3,3,padding=1)\n",
    "        self.stage_2 = VGGBlock(3,6,3)\n",
    "    def forward(self, input):\n",
    "        out = self.stage_1(input)\n",
    "        out = self.stage_2(out)\n",
    "        return out\n",
    "n = Net()\n",
    "inp = torch.randn(1,3,32,32)\n",
    "o = n(inp)\n",
    "print(o.shape)\n"
   ]
  },
  {
   "cell_type": "code",
   "execution_count": 2,
   "metadata": {},
   "outputs": [],
   "source": [
    "# RepVGGBlock(3,64,3,padding=1)"
   ]
  },
  {
   "cell_type": "code",
   "execution_count": null,
   "metadata": {},
   "outputs": [],
   "source": [
    "# padding == 1 是为了保证尺寸不变\n"
   ]
  },
  {
   "cell_type": "code",
   "execution_count": 22,
   "metadata": {},
   "outputs": [],
   "source": [
    "cfgs = {\n",
    "    'A': [64, 'M', 128, 'M', 256, 256, 'M', 512, 512, 'M', 512, 512, 'M'],\n",
    "    'B': [64, 64, 'M', 128, 128, 'M', 256, 256, 'M', 512, 512, 'M', 512, 512, 'M'],\n",
    "    'D': [64, 64, 'M', 128, 128, 'M', 256, 256, 256, 'M', 512, 512, 512, 'M', 512, 512, 512, 'M'],\n",
    "    'E': [64, 64, 'M', 128, 128, 'M', 256, 256, 256, 256, 'M', 512, 512, 512, 512, 'M', 512, 512, 512, 512, 'M'],\n",
    "}\n",
    "def make_layers(cfg, batch_norm=False):\n",
    "    '''\n",
    "    根据配置表，返回模型层列表\n",
    "    '''\n",
    "    layers = [] # 层列表初始化\n",
    "\n",
    "    in_channels = 3 # 输入3通道图像\n",
    "\n",
    "    # 遍历配置列表\n",
    "    for v in cfg:\n",
    "        if v == 'M': # 添加池化层\n",
    "            layers += [nn.MaxPool2d(kernel_size=2, stride=2)]\n",
    "        else: # 添加卷积层\n",
    "\n",
    "            # 3×3 卷积\n",
    "            conv2d = nn.Conv2d(in_channels, v, kernel_size=3, padding=1)\n",
    "\n",
    "            # 卷积-->批归一化（可选）--> ReLU激活\n",
    "            if batch_norm:\n",
    "                layers += [conv2d, nn.BatchNorm2d(v), nn.ReLU(inplace=True)]\n",
    "            else:\n",
    "                layers += [conv2d, nn.ReLU(inplace=True)]\n",
    "\n",
    "            # 通道数方面，下一层输入即为本层输出\n",
    "            in_channels = v\n",
    "\n",
    "    # 以sequencial类型返回模型层列表\n",
    "    return nn.Sequential(*layers)\n",
    "\n",
    "# make_layers(cfgs['A'], batch_norm=True)"
   ]
  },
  {
   "cell_type": "code",
   "execution_count": 21,
   "metadata": {},
   "outputs": [],
   "source": [
    "class VGG(nn.Module):\n",
    "    '''\n",
    "    VGG通用网络模型\n",
    "    输入features为网络的特征提取部分网络层列表\n",
    "    分类数为 1000\n",
    "    '''\n",
    "    def __init__(self, features, dataset = 'cifar10', init_weights=True):\n",
    "        super(VGG, self).__init__()\n",
    "        if dataset == 'cifar10':\n",
    "            num_classes = 10\n",
    "        elif dataset == 'cifar100':\n",
    "            num_classes = 100\n",
    "            \n",
    "        # 特征提取部分\n",
    "        self.features = features\n",
    "\n",
    "        # 自适应平均池化，特征图池化到 7×7 大小\n",
    "        # 为了让下一步的flatten得到一个固定长度的向量\n",
    "        \n",
    "        self.avgpool = nn.AdaptiveAvgPool2d((7, 7))\n",
    "\n",
    "        # 分类部分\n",
    "        self.classifier = nn.Sequential(\n",
    "            nn.Linear(512 * 7 * 7, 4096),   # 512*7*7 --> 4096\n",
    "            nn.ReLU(True),\n",
    "            nn.Dropout(),\n",
    "            nn.Linear(4096, 4096),          # 4096 --> 4096\n",
    "            nn.ReLU(True),\n",
    "            # nn.Dropout(),\n",
    "            nn.Linear(4096, num_classes),   # 4096 --> 1000\n",
    "        )\n",
    "\n",
    "        # 权重初始化\n",
    "        if init_weights:\n",
    "            self._initialize_weights()\n",
    "\n",
    "    def forward(self, x):\n",
    "\n",
    "        # 特征提取\n",
    "        x = self.features(x)\n",
    "        # 自适应平均池化\n",
    "        x = self.avgpool(x)\n",
    "        # 特征图展平成向量\n",
    "        x = torch.flatten(x, 1)\n",
    "        # 分类器分类输出\n",
    "        x = self.classifier(x)\n",
    "        return x\n",
    "\n",
    "    def _initialize_weights(self):\n",
    "        '''\n",
    "        权重初始化\n",
    "        '''\n",
    "        for m in self.modules():\n",
    "            if isinstance(m, nn.Conv2d):\n",
    "                # 卷积层使用 kaimming 初始化\n",
    "                nn.init.kaiming_normal_(\n",
    "                    m.weight, mode='fan_out', nonlinearity='relu')\n",
    "                # 偏置初始化为0\n",
    "                if m.bias is not None:\n",
    "                    nn.init.constant_(m.bias, 0)\n",
    "            # 批归一化层权重初始化为1 \n",
    "            elif isinstance(m, nn.BatchNorm2d):\n",
    "                nn.init.constant_(m.weight, 1)\n",
    "                nn.init.constant_(m.bias, 0)\n",
    "            # 全连接层权重初始化\n",
    "            elif isinstance(m, nn.Linear):\n",
    "                nn.init.normal_(m.weight, 0, 0.01)\n",
    "                nn.init.constant_(m.bias, 0)"
   ]
  },
  {
   "cell_type": "code",
   "execution_count": 3,
   "metadata": {},
   "outputs": [
    {
     "name": "stdout",
     "output_type": "stream",
     "text": [
      "torch.Size([2, 512, 1, 1])\n",
      "torch.Size([2, 10])\n"
     ]
    }
   ],
   "source": [
    "# models.vgg19_bn(pretrained=True)\n",
    "'''VGG11/13/16/19 in Pytorch.'''\n",
    "import torch\n",
    "import torch.nn as nn\n",
    "\n",
    "\n",
    "cfg = {\n",
    "    'VGG11': [64, 'M', 128, 'M', 256, 256, 'M', 512, 512, 'M', 512, 512, 'M'],\n",
    "    'VGG13': [64, 64, 'M', 128, 128, 'M', 256, 256, 'M', 512, 512, 'M', 512, 512, 'M'],\n",
    "    'VGG16': [64, 64, 'M', 128, 128, 'M', 256, 256, 256, 'M', 512, 512, 512, 'M', 512, 512, 512, 'M'],\n",
    "    'VGG19': [64, 64, 'M', 128, 128, 'M', 256, 256, 256, 256, 'M', 512, 512, 512, 512, 'M', 512, 512, 512, 512, 'M'],\n",
    "}\n",
    "\n",
    "\n",
    "class VGG(nn.Module):\n",
    "    def __init__(self, vgg_name):\n",
    "        super(VGG, self).__init__()\n",
    "        self.features = self._make_layers(cfg[vgg_name])\n",
    "        self.classifier = nn.Linear(512, 10)\n",
    "        self.gap = nn.AvgPool2d(kernel_size=1, stride=1)\n",
    "\n",
    "    def forward(self, x):\n",
    "        out = self.features(x)\n",
    "        print(out.shape)\n",
    "        out = self.gap(out)\n",
    "        out = out.view(out.size(0), -1)\n",
    "        out = self.classifier(out)\n",
    "        return out\n",
    "\n",
    "    def _make_layers(self, cfg):\n",
    "        layers = []\n",
    "        in_channels = 3\n",
    "        for x in cfg:\n",
    "            if x == 'M':\n",
    "                layers += [nn.MaxPool2d(kernel_size=2, stride=2)]\n",
    "            else:\n",
    "                layers += [nn.Conv2d(in_channels, x, kernel_size=3, padding=1),\n",
    "                           nn.BatchNorm2d(x),\n",
    "                           nn.ReLU(inplace=True)]\n",
    "                in_channels = x\n",
    "        # layers += []\n",
    "        return nn.Sequential(*layers)\n",
    "\n",
    "\n",
    "def test():\n",
    "    net = VGG('VGG16')\n",
    "    x = torch.randn(2,3,32,32)\n",
    "    y = net(x)\n",
    "    print(y.size())\n",
    "test()"
   ]
  },
  {
   "cell_type": "code",
   "execution_count": 1,
   "metadata": {},
   "outputs": [],
   "source": [
    "# net = VGG('VGG16')\n",
    "# net\n",
    "# # {64->64:1,max,64->128:1,128->128:1,max,128->256:1,256->256:2,max,256->512:1,512:5,max,gap,}"
   ]
  },
  {
   "cell_type": "code",
   "execution_count": null,
   "metadata": {},
   "outputs": [],
   "source": []
  },
  {
   "cell_type": "code",
   "execution_count": 3,
   "metadata": {},
   "outputs": [],
   "source": [
    "# from models import model\n",
    "# m = model.Net(config=config,num_classes=10)\n",
    "# # x = torch.randn(2,3,32,32)\n",
    "# # m(x)\n",
    "# m"
   ]
  },
  {
   "cell_type": "code",
   "execution_count": 8,
   "metadata": {},
   "outputs": [],
   "source": [
    "# from models import model\n",
    "# m = model.Net(config=config,num_classes=10)\n",
    "# x = torch.randn(2,3,32,32)\n",
    "# m(x)"
   ]
  },
  {
   "cell_type": "code",
   "execution_count": null,
   "metadata": {},
   "outputs": [],
   "source": []
  },
  {
   "cell_type": "code",
   "execution_count": null,
   "metadata": {},
   "outputs": [],
   "source": []
  },
  {
   "cell_type": "code",
   "execution_count": 10,
   "metadata": {},
   "outputs": [
    {
     "data": {
      "text/plain": [
       "'459-stage-1_3_1_5_1-ratio-0.5_0.5_0.75_0.875_0.625-op-repvgg_vgg_vgg_repvgg_vgg-max-False_True_True_True_True-cifar10'"
      ]
     },
     "execution_count": 10,
     "metadata": {},
     "output_type": "execute_result"
    }
   ],
   "source": [
    "dir = str(n)+'-stage-' + str(stage_layer[0]) + '_' + str(stage_layer[1]) + '_' + str(stage_layer[2]) + '_' + str(stage_layer[3]) + '_' + str(stage_layer[4]) + '-ratio-' \\\n",
    "    + str(stage_ratio[0]) + '_' + str(stage_ratio[1]) + '_' + str(stage_ratio[2]) + '_' + str(stage_ratio[3]) + '_' + str(stage_ratio[4]) +  \\\n",
    "        '-op-' + str(op_type[0]) + '_' + str(op_type[1]) + '_' + str(op_type[2]) + '_' + str(op_type[3]) + '_' + str(op_type[4]) + '-max-' + \\\n",
    "            str(with_maxpool[0]) + '_' + str(with_maxpool[1]) + '_' + str(with_maxpool[2]) + '_' + str(with_maxpool[3]) + '_' + str(with_maxpool[4]) +'-'+ dataset\n",
    "dir"
   ]
  },
  {
   "cell_type": "code",
   "execution_count": 2,
   "metadata": {},
   "outputs": [
    {
     "name": "stdout",
     "output_type": "stream",
     "text": [
      "====================================================================================================\n",
      "|530|1-4-3-1-1|0.75-0.75-1.0-0.625-0.625|repvgg-vgg-vgg-repvgg-vgg|False-True-False-True-True|cifar10||||||\n",
      "|531|1-1-2-4-1|0.5-0.5-0.75-0.375-0.75|repvgg-vgg-repvgg-repvgg-repvgg|False-True-False-True-False|cifar10||||||\n",
      "|532|1-1-3-2-1|1.0-1.0-0.75-0.625-0.125|repvgg-repvgg-vgg-repvgg-vgg|False-True-True-True-True|cifar10||||||\n",
      "|533|1-2-6-4-1|0.5-0.5-0.125-0.625-0.625|vgg-repvgg-vgg-vgg-repvgg|False-False-True-True-True|cifar10||||||\n",
      "|534|1-1-2-7-1|0.5-0.5-0.75-0.875-0.625|repvgg-repvgg-vgg-repvgg-repvgg|False-True-False-False-True|cifar10||||||\n",
      "|535|1-2-1-8-1|0.125-0.125-0.875-1.0-1.0|vgg-repvgg-vgg-repvgg-vgg|False-False-False-True-True|cifar10||||||\n",
      "|536|1-2-5-4-1|0.375-0.375-0.125-0.5-0.5|vgg-vgg-vgg-repvgg-repvgg|False-False-False-False-True|cifar10||||||\n",
      "|537|1-4-5-6-1|0.625-0.625-1.0-1.0-0.25|repvgg-vgg-repvgg-repvgg-repvgg|False-True-False-False-True|cifar10||||||\n",
      "|538|1-1-5-3-1|0.5-0.5-0.625-0.75-1.0|repvgg-vgg-vgg-vgg-vgg|False-False-False-False-True|cifar10||||||\n",
      "|539|1-2-4-3-1|0.25-0.25-0.875-0.5-0.625|vgg-vgg-vgg-vgg-repvgg|False-False-False-False-False|cifar10||||||\n",
      "|540|1-4-5-7-1|0.25-0.25-0.25-0.875-0.25|vgg-vgg-vgg-repvgg-repvgg|False-False-False-True-False|cifar10||||||\n",
      "|541|1-3-4-3-1|0.75-0.75-0.5-1.0-0.125|vgg-repvgg-vgg-vgg-vgg|False-False-True-False-True|cifar10||||||\n",
      "|542|1-3-4-7-1|0.75-0.75-0.125-0.75-0.625|vgg-vgg-vgg-vgg-repvgg|False-False-False-False-False|cifar10||||||\n",
      "|543|1-3-6-8-1|0.375-0.375-0.875-0.5-0.25|repvgg-repvgg-repvgg-repvgg-vgg|False-False-True-False-False|cifar10||||||\n",
      "|544|1-1-5-8-1|1.0-1.0-0.25-1.0-0.625|vgg-repvgg-vgg-repvgg-repvgg|False-False-False-False-True|cifar10||||||\n",
      "|545|1-1-5-7-1|1.0-1.0-0.375-0.375-0.75|repvgg-vgg-repvgg-vgg-vgg|False-True-False-False-False|cifar10||||||\n",
      "|546|1-3-2-3-1|0.375-0.375-0.625-0.75-0.625|repvgg-vgg-vgg-vgg-repvgg|False-True-True-True-True|cifar10||||||\n",
      "|547|1-3-4-2-1|0.875-0.875-0.125-0.5-0.125|vgg-vgg-vgg-vgg-vgg|False-False-True-False-False|cifar10||||||\n",
      "|548|1-1-5-1-1|0.375-0.375-0.125-0.875-0.25|vgg-vgg-vgg-vgg-repvgg|False-True-True-True-False|cifar10||||||\n",
      "|549|1-4-3-7-1|1.0-1.0-0.75-0.5-0.125|vgg-repvgg-repvgg-repvgg-vgg|False-True-False-True-False|cifar10||||||\n",
      "====================================================================================================\n",
      "python3 train.py --config ./config/530-stage-1_4_3_1_1-ratio-0.75_0.75_1.0_0.625_0.625-op-repvgg_vgg_vgg_repvgg_vgg-max-False_True_False_True_True-cifar10.yaml\n",
      "python3 train.py --config ./config/531-stage-1_1_2_4_1-ratio-0.5_0.5_0.75_0.375_0.75-op-repvgg_vgg_repvgg_repvgg_repvgg-max-False_True_False_True_False-cifar10.yaml\n",
      "python3 train.py --config ./config/532-stage-1_1_3_2_1-ratio-1.0_1.0_0.75_0.625_0.125-op-repvgg_repvgg_vgg_repvgg_vgg-max-False_True_True_True_True-cifar10.yaml\n",
      "python3 train.py --config ./config/533-stage-1_2_6_4_1-ratio-0.5_0.5_0.125_0.625_0.625-op-vgg_repvgg_vgg_vgg_repvgg-max-False_False_True_True_True-cifar10.yaml\n",
      "python3 train.py --config ./config/534-stage-1_1_2_7_1-ratio-0.5_0.5_0.75_0.875_0.625-op-repvgg_repvgg_vgg_repvgg_repvgg-max-False_True_False_False_True-cifar10.yaml\n",
      "python3 train.py --config ./config/535-stage-1_2_1_8_1-ratio-0.125_0.125_0.875_1.0_1.0-op-vgg_repvgg_vgg_repvgg_vgg-max-False_False_False_True_True-cifar10.yaml\n",
      "python3 train.py --config ./config/536-stage-1_2_5_4_1-ratio-0.375_0.375_0.125_0.5_0.5-op-vgg_vgg_vgg_repvgg_repvgg-max-False_False_False_False_True-cifar10.yaml\n",
      "python3 train.py --config ./config/537-stage-1_4_5_6_1-ratio-0.625_0.625_1.0_1.0_0.25-op-repvgg_vgg_repvgg_repvgg_repvgg-max-False_True_False_False_True-cifar10.yaml\n",
      "python3 train.py --config ./config/538-stage-1_1_5_3_1-ratio-0.5_0.5_0.625_0.75_1.0-op-repvgg_vgg_vgg_vgg_vgg-max-False_False_False_False_True-cifar10.yaml\n",
      "python3 train.py --config ./config/539-stage-1_2_4_3_1-ratio-0.25_0.25_0.875_0.5_0.625-op-vgg_vgg_vgg_vgg_repvgg-max-False_False_False_False_False-cifar10.yaml\n",
      "python3 train.py --config ./config/540-stage-1_4_5_7_1-ratio-0.25_0.25_0.25_0.875_0.25-op-vgg_vgg_vgg_repvgg_repvgg-max-False_False_False_True_False-cifar10.yaml\n",
      "python3 train.py --config ./config/541-stage-1_3_4_3_1-ratio-0.75_0.75_0.5_1.0_0.125-op-vgg_repvgg_vgg_vgg_vgg-max-False_False_True_False_True-cifar10.yaml\n",
      "python3 train.py --config ./config/542-stage-1_3_4_7_1-ratio-0.75_0.75_0.125_0.75_0.625-op-vgg_vgg_vgg_vgg_repvgg-max-False_False_False_False_False-cifar10.yaml\n",
      "python3 train.py --config ./config/543-stage-1_3_6_8_1-ratio-0.375_0.375_0.875_0.5_0.25-op-repvgg_repvgg_repvgg_repvgg_vgg-max-False_False_True_False_False-cifar10.yaml\n",
      "python3 train.py --config ./config/544-stage-1_1_5_8_1-ratio-1.0_1.0_0.25_1.0_0.625-op-vgg_repvgg_vgg_repvgg_repvgg-max-False_False_False_False_True-cifar10.yaml\n",
      "python3 train.py --config ./config/545-stage-1_1_5_7_1-ratio-1.0_1.0_0.375_0.375_0.75-op-repvgg_vgg_repvgg_vgg_vgg-max-False_True_False_False_False-cifar10.yaml\n",
      "python3 train.py --config ./config/546-stage-1_3_2_3_1-ratio-0.375_0.375_0.625_0.75_0.625-op-repvgg_vgg_vgg_vgg_repvgg-max-False_True_True_True_True-cifar10.yaml\n",
      "python3 train.py --config ./config/547-stage-1_3_4_2_1-ratio-0.875_0.875_0.125_0.5_0.125-op-vgg_vgg_vgg_vgg_vgg-max-False_False_True_False_False-cifar10.yaml\n",
      "python3 train.py --config ./config/548-stage-1_1_5_1_1-ratio-0.375_0.375_0.125_0.875_0.25-op-vgg_vgg_vgg_vgg_repvgg-max-False_True_True_True_False-cifar10.yaml\n",
      "python3 train.py --config ./config/549-stage-1_4_3_7_1-ratio-1.0_1.0_0.75_0.5_0.125-op-vgg_repvgg_repvgg_repvgg_vgg-max-False_True_False_True_False-cifar10.yaml\n"
     ]
    }
   ],
   "source": [
    "import numpy as np\n",
    "from random import choices \n",
    "\n",
    "# the layer number of each stage\n",
    "# stage_layer_max = [1, 2, 4, 14, 1]\n",
    "stage_layer_max = [2, 4, 4, 4, 4]\n",
    "# the channel number of each layer\n",
    "layer_num_max = [64, 64, 128, 256, 512]\n",
    "# the descending step of channel \n",
    "step = 8 \n",
    "op = ['repvgg','vgg'] # every stage\n",
    "maxpool = [True,False]\n",
    "ratio = [0.125, 0.25, 0.375, 0.5, 0.625, 0.75, 0.875, 1.0]\n",
    "datasets = [\"cifar10\"]\n",
    "\n",
    "\n",
    "# operation \n",
    "# class_num = 10 if dataset == \"cifar10\" else 100\n",
    "import yaml\n",
    "import os \n",
    "import collections\n",
    "def save_dict_to_yaml(dict_value: dict, save_path: str):\n",
    "    \"\"\"dict保存为yaml\"\"\"\n",
    "    with open(save_path, 'w') as file:\n",
    "        file.write(yaml.dump(dict_value, allow_unicode=True))\n",
    " \n",
    "def read_yaml_to_dict(yaml_path: str):\n",
    "    with open(yaml_path) as file:\n",
    "        dict_value = yaml.load(file.read(), Loader=yaml.FullLoader)\n",
    "        return dict_value\n",
    "savedirs = []\n",
    "md_fmts = []\n",
    "for n in range(551,640):\n",
    "    config = {}\n",
    "    # 随机生成模型\n",
    "    dataset = choices(datasets)[0]\n",
    "    \n",
    "    stage_layer = [choices(range(1,stage_layer_max[0]+1))[0],choices(range(1,stage_layer_max[1]+1))[0],choices(range(1,stage_layer_max[2]+1))[0],choices(range(1,stage_layer_max[3]+1))[0],choices(range(1,stage_layer_max[4]+1))[0]]\n",
    "    # stage_layer\n",
    "    ratio_1 = choices(ratio)[0]\n",
    "    stage_ratio = [ratio_1,ratio_1,choices(ratio)[0],choices(ratio)[0],choices(ratio)[0]]\n",
    "    # stage_ratio = [1.0] * 5\n",
    "    # stage_ratio\n",
    "    with_maxpool = [False,choices(maxpool)[0],choices(maxpool)[0],choices(maxpool)[0],choices(maxpool)[0]]\n",
    "    # with_maxpool\n",
    "    op_type = [choices(op)[0],choices(op)[0],choices(op)[0],choices(op)[0],choices(op)[0]]\n",
    "    # op_type = ['repvgg'] * 5\n",
    "    dir = str(n)+'-stage-' + str(stage_layer[0]) + '_' + str(stage_layer[1]) + '_' + str(stage_layer[2]) + '_' + str(stage_layer[3]) + '_' + str(stage_layer[4]) + '-ratio-' \\\n",
    "    + str(stage_ratio[0]) + '_' + str(stage_ratio[1]) + '_' + str(stage_ratio[2]) + '_' + str(stage_ratio[3]) + '_' + str(stage_ratio[4]) +  \\\n",
    "        '-op-' + str(op_type[0]) + '_' + str(op_type[1]) + '_' + str(op_type[2]) + '_' + str(op_type[3]) + '_' + str(op_type[4]) + '-max-' + \\\n",
    "            str(with_maxpool[0]) + '_' + str(with_maxpool[1]) + '_' + str(with_maxpool[2]) + '_' + str(with_maxpool[3]) + '_' + str(with_maxpool[4]) +'-'+ dataset\n",
    "    md_fmt = \"|\"+ str(n)+'|' + str(stage_layer[0]) + '-' + str(stage_layer[1]) + '-' + str(stage_layer[2]) + '-' + str(stage_layer[3]) + '-' + str(stage_layer[4]) + '|'\\\n",
    "        + str(stage_ratio[0]) + '-' + str(stage_ratio[1]) + '-' + str(stage_ratio[2]) + '-' + str(stage_ratio[3]) + '-' + str(stage_ratio[4]) + \\\n",
    "            '|' + str(op_type[0]) + '-' + str(op_type[1]) + '-' + str(op_type[2]) + '-' + str(op_type[3]) + '-' + str(op_type[4]) + '|' + \\\n",
    "                str(with_maxpool[0]) + '-' + str(with_maxpool[1]) + '-' + str(with_maxpool[2]) + '-' + str(with_maxpool[3]) + '-' + str(with_maxpool[4]) +'|'+ dataset+'|' \"|\" * 3\n",
    "\n",
    "    config['model'] = {'stage_layer':stage_layer,'stage_ratio': stage_ratio ,'with_maxpool':with_maxpool,'op_type':op_type,\"layer_num_max\":layer_num_max}\n",
    "    config['train'] = {'start_epoch': 0, \"epochs\": 100, \"warmup_epochs\": 0, \"warmup_lr\": 1.0e-2, \n",
    "                    \"lr_scheduler\":{\"min_lr\":1.0e-5,\"decay_epochs\":30,\"decay_rate\":0.1},\"batch_size\":256,\"loss\":\"crossentropy\",\"workers\":4,\n",
    "                    \"optimizer\":{\"name\":\"SGD\",\"base_lr\":0.1,\"repvgg_lr\":0.1,\"momentum\":0.9,\"eps\":1.0e-8,\"betas\":[0.9,0.999],\"weight_decay_param\":{\"base_decay\":5e-4,\"repvgg_decay\":1e-4,\"echo\":False}},\n",
    "                    \"label_smoothing\":0.1,\"clip_grad\":0.0,\"ema_alpha\":0.0,\"ema_update_period\":8,\"use_l2_norm\":True,\n",
    "                    \"no_weight_decay\": [\"rbr_dense\",\"rbr_1x1\"]}\n",
    "    config['val'] = {\"batch_size\":128,\"workers\":4} \n",
    "    config['output'] = {\"print_freq\":100,\"epoch_print_freq\":1,\"save_freq\":20,\n",
    "                        \"dir\": os.path.join(\"./log\",dir), \"name\": str(n)}\n",
    "    config['dataset'] = dataset\n",
    "    save_path = os.path.join(\"../config\",dir+'.yaml')\n",
    "    md_fmts.append(md_fmt)\n",
    "    savedirs.append(save_path.replace(\"..\",\".\"))\n",
    "    save_dict_to_yaml(config,save_path)\n",
    "\n",
    "print(\"=\"*100)\n",
    "for md in md_fmts:\n",
    "    print(md)\n",
    "print(\"=\"*100)\n",
    "for savedir in savedirs:\n",
    "    print(\"python3 train.py --config \" + savedir)"
   ]
  },
  {
   "cell_type": "code",
   "execution_count": 11,
   "metadata": {},
   "outputs": [],
   "source": [
    "from models import model\n",
    "m = model.Net(config=config,num_classes=10)\n",
    "# x = torch.randn(2,3,32,32)\n",
    "# m(x)\n",
    "from easydict import EasyDict\n",
    "config = EasyDict(yaml.full_load(open(\"./config/13-stage-1_1_2_12_1-ratio-0.5_0.5_0.75_0.5_0.75-op-vgg_vgg_vgg_repvgg_vgg-max-False_True_True_True_False.yaml\")))\n",
    "config.train.optimizer.weight_decay_param.echo = True\n",
    "import torch.optim as optim\n",
    "\n",
    "def build_optimizer(config, model):\n",
    "    \"\"\"\n",
    "    Build optimizer, set weight decay of normalization to 0 by default.\n",
    "    \"\"\"\n",
    "    skip = {}\n",
    "    skip_keywords = {}\n",
    "    if hasattr(model, 'no_weight_decay'):\n",
    "        skip = model.no_weight_decay()\n",
    "    if hasattr(model, 'no_weight_decay_keywords'):\n",
    "        if config.train.use_l2_norm:\n",
    "            skip_keywords = model.no_weight_decay_keywords(\n",
    "                config.train.no_weight_decay)\n",
    "        else:\n",
    "            skip_keywords = model.no_weight_decay_keywords()\n",
    "    parameters = set_weight_decay(\n",
    "        model,\n",
    "        skip,\n",
    "        skip_keywords,\n",
    "        echo=config.train.optimizer.weight_decay_param.echo)\n",
    "    repvgg_stage = torch.nn.ModuleList()\n",
    "    for stage in (model.stage_0, model.stage_1, model.stage_2, model.stage_3):\n",
    "        for name, module in stage._modules.items():\n",
    "            if \"repvgg\" in name:\n",
    "                repvgg_stage.append(stage)\n",
    "    repvgg_stage_params = list(map(id, repvgg_stage.parameters()))\n",
    "    base_stage_param = filter(lambda p: id(p) not in repvgg_stage_params,\n",
    "                              model.parameters())\n",
    "\n",
    "    opt_lower = config.train.optimizer.name.lower()\n",
    "    optimizer = None\n",
    "    if opt_lower == 'sgd':\n",
    "        optimizer = optim.SGD(\n",
    "            [{\n",
    "                'params':\n",
    "                base_stage_param,\n",
    "                'lr':\n",
    "                config.train.optimizer.base_lr,\n",
    "                \"weight_decay\":\n",
    "                config.train.optimizer.weight_decay_param.base_decay\n",
    "            }, {\n",
    "                'params':\n",
    "                repvgg_stage.parameters(),\n",
    "                'lr':\n",
    "                config.train.optimizer.repvgg_lr,\n",
    "                \"weight_decay\":\n",
    "                config.train.optimizer.weight_decay_param.repvgg_decay\n",
    "            }],\n",
    "            momentum=config.train.optimizer.momentum,\n",
    "            nesterov=True,\n",
    "        )\n",
    "        # optimizer = optim.SGD(parameters, momentum=config.train.optimizer.momentum, nesterov=True,\n",
    "        #                       lr=config.train.optimizer.base_lr, weight_decay=config.train.optimizer.weight_decay_param.decay)\n",
    "        if config.train.optimizer.weight_decay_param.echo:\n",
    "            print(\n",
    "                '================================== SGD nest, momentum = {}, wd = {}'\n",
    "                .format(config.train.optimizer.momentum,\n",
    "                        config.train.optimizer.weight_decay_param.base_decay))\n",
    "    return optimizer\n",
    "def set_weight_decay(model, skip_list=(), skip_keywords=(), echo=False):\n",
    "    has_decay = []\n",
    "    no_decay = []\n",
    "\n",
    "    for name, param in model.named_parameters():\n",
    "        if not param.requires_grad:\n",
    "            continue  # frozen weights\n",
    "        if 'identity.weight' in name:\n",
    "            has_decay.append(param)\n",
    "            if echo:\n",
    "                print(f\"{name} USE weight decay\")\n",
    "        elif len(param.shape) == 1 or name.endswith(\".bias\") or (\n",
    "                name in skip_list) or check_keywords_in_name(\n",
    "                    name, skip_keywords):\n",
    "            no_decay.append(param)\n",
    "            if echo:\n",
    "                print(f\"{name} has no weight decay\")\n",
    "        else:\n",
    "            has_decay.append(param)\n",
    "            if echo:\n",
    "                print(f\"{name} USE weight decay\")\n",
    "\n",
    "    return [{'params': has_decay}, {'params': no_decay, 'weight_decay': 0.}]\n",
    "def check_keywords_in_name(name, keywords=()):\n",
    "    isin = False\n",
    "    for keyword in keywords:\n",
    "        if keyword in name:\n",
    "            isin = True\n",
    "    return isin\n",
    "# build_optimizer(config, m)"
   ]
  },
  {
   "cell_type": "code",
   "execution_count": null,
   "metadata": {},
   "outputs": [],
   "source": []
  }
 ],
 "metadata": {
  "kernelspec": {
   "display_name": "Python 3.9.15 ('torch': conda)",
   "language": "python",
   "name": "python3"
  },
  "language_info": {
   "codemirror_mode": {
    "name": "ipython",
    "version": 3
   },
   "file_extension": ".py",
   "mimetype": "text/x-python",
   "name": "python",
   "nbconvert_exporter": "python",
   "pygments_lexer": "ipython3",
   "version": "3.9.15"
  },
  "orig_nbformat": 4,
  "vscode": {
   "interpreter": {
    "hash": "9c702fa59d8122797944f957dba7be4f979da7d1929b3cf04b128c443ec5b9bd"
   }
  }
 },
 "nbformat": 4,
 "nbformat_minor": 2
}
