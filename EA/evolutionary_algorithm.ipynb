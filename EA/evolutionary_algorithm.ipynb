{
 "cells": [
  {
   "cell_type": "code",
   "execution_count": 1,
   "metadata": {},
   "outputs": [
    {
     "name": "stderr",
     "output_type": "stream",
     "text": [
      "/home/qhy/anaconda3/envs/torch/lib/python3.9/site-packages/tqdm/auto.py:22: TqdmWarning: IProgress not found. Please update jupyter and ipywidgets. See https://ipywidgets.readthedocs.io/en/stable/user_install.html\n",
      "  from .autonotebook import tqdm as notebook_tqdm\n"
     ]
    },
    {
     "name": "stdout",
     "output_type": "stream",
     "text": [
      "本算法需谨慎使用先验知识，有可能会导致结果比先验知识差。\n"
     ]
    },
    {
     "name": "stderr",
     "output_type": "stream",
     "text": [
      "No artists with labels found to put in legend.  Note that artists whose label start with an underscore are ignored when legend() is called with no argument.\n"
     ]
    },
    {
     "data": {
      "image/png": "[encoded data removed]",
      "text/plain": [
       "<Figure size 640x480 with 1 Axes>"
      ]
     },
     "metadata": {},
     "output_type": "display_data"
    },
    {
     "name": "stdout",
     "output_type": "stream",
     "text": [
      "Execution time: 8.007077693939209 s\n",
      "Evaluation number: 45500\n",
      "The number of non-dominated solutions is: 15\n",
      "hv: 1.39378\n",
      "spacing: 13.43536\n"
     ]
    }
   ],
   "source": [
    "import numpy as np\n",
    "import geatpy as ea\n",
    "import torch \n",
    "import sys\n",
    "sys.path.append(\"..\")\n",
    "from predictor.mlp import FeedforwardNet\n",
    "sys.path.append(\"../encode+decode/\")\n",
    "from decode import decode,decode_lite\n",
    "from flops_params import flops_params\n",
    "def init_pop(acc=91):\n",
    "    data= np.load(\"/home/qhy/Reserach/AICAS/predictor/dataset/data-dict-980.npy\",allow_pickle=True).item()\n",
    "    pop_init = []\n",
    "    num = []\n",
    "    for k in data.keys():\n",
    "        if data[k]['acc'] > acc:\n",
    "            pop_init.append(np.array(data[k]['code'])*np.array([8]*5+[1]*16))\n",
    "            num.append(k)\n",
    "    return pop_init,len(num)\n",
    "\n",
    "\n",
    "model_path = \"/home/qhy/Reserach/AICAS/predictor/MLP/loss-mse-input_dims-21-num_layers-4-layer_width-40_30_20_10-lr-0.1-regular-0.1-r-train-0.9238-r-test-0.9443.pth\"\n",
    "model_param = torch.load(model_path)\n",
    "hyperparams = model_param[\"hyperparams\"]\n",
    "predictor = FeedforwardNet(hyperparams[\"input_dims\"],hyperparams[\"num_layers\"],hyperparams[\"layer_width\"],1,'relu')\n",
    "predictor.load_state_dict(model_param['model'])\n",
    "\n",
    "class EA_S(ea.Problem):  # 继承Problem父类\n",
    "    def __init__(self,model):\n",
    "        name = 'EA'  # 初始化name（函数名称，可以随意设置）\n",
    "        M = 1  # 优化目标个数\n",
    "        maxormins = [1] *M  # 初始化maxormins（目标最小最大化标记列表，1：最小化该目标；-1：最大化该目标）\n",
    "        Dim = M  # 初始化Dim（决策变量维数）\n",
    "        varTypes = [1] * 21  # 初始化varTypes（决策变量的类型，0：实数；1：整数）\n",
    "        lb = [1]*5+[0]*5+[0]*6+[1]*5  # 决策变量下界\n",
    "        ub = [8]*5+[1]*5+[2]*6+[2,4,6,8,4]  # 决策变量上界\n",
    "        lbin = [1]*21  # 决策变量下边界（0表示不包含该变量的下边界，1表示包含）\n",
    "        ubin = [1]*21  # 决策变量上边界（0表示不包含该变量的上边界，1表示包含）\n",
    "        self.predictor = model\n",
    "        # 调用父类构造方法完成实例化\n",
    "        ea.Problem.__init__(self, name, M, maxormins, Dim, varTypes, lb, ub, lbin, ubin)\n",
    "\n",
    "    def aimFunc(self, pop):  # 目标函数\n",
    "        Vars = pop.Phen  # 获取决策变量矩阵，它等于种群的表现型矩阵Phen\n",
    "        Vars = torch.tensor(np.array(Vars,dtype=np.float32))\n",
    "        accuracy = []\n",
    "        flops = []\n",
    "        params = []\n",
    "        \n",
    "        for i in range(Vars.shape[0]):\n",
    "            acc = self.predictor(Vars[i]*1.0).detach().numpy()*-1\n",
    "            # print(Vars[i])\n",
    "            f,p = flops_params(Vars[i].detach().cpu().numpy())\n",
    "            accuracy.append(acc+f/150+p/3) \n",
    "            # accuracy.append(acc) \n",
    "            \n",
    "        accuracy = np.array(accuracy)\n",
    "        pop.ObjV = np.hstack([accuracy])  # 计算目标函数值矩阵，赋值给种群对象的ObjV属性\n",
    "        # pop.CV = -Vars ** 2 + 2.5 * Vars - 1.5  # 构建违反约束程度矩阵，赋值给种群对象的CV属性\n",
    "class EA_M(ea.Problem):  # 继承Problem父类\n",
    "    def __init__(self,model):\n",
    "        name = 'EA'  # 初始化name（函数名称，可以随意设置）\n",
    "        M = 3  # 优化目标个数\n",
    "        maxormins = [1] *M  # 初始化maxormins（目标最小最大化标记列表，1：最小化该目标；-1：最大化该目标）\n",
    "        Dim = M  # 初始化Dim（决策变量维数）\n",
    "        varTypes = [1] * 21  # 初始化varTypes（决策变量的类型，0：实数；1：整数）\n",
    "        lb = [1]*5+[0]*5+[0]*6+[1]*5  # 决策变量下界\n",
    "        ub = [8]*5+[1]*5+[2]*6+[2,4,6,8,4]  # 决策变量上界\n",
    "        lbin = [1]*21  # 决策变量下边界（0表示不包含该变量的下边界，1表示包含）\n",
    "        ubin = [1]*21  # 决策变量上边界（0表示不包含该变量的上边界，1表示包含）\n",
    "        self.predictor = model\n",
    "        # 调用父类构造方法完成实例化\n",
    "        ea.Problem.__init__(self, name, M, maxormins, Dim, varTypes, lb, ub, lbin, ubin)\n",
    "\n",
    "    def aimFunc(self, pop):  # 目标函数\n",
    "        Vars = pop.Phen  # 获取决策变量矩阵，它等于种群的表现型矩阵Phen\n",
    "        Vars = torch.tensor(np.array(Vars,dtype=np.float32))\n",
    "        accuracy = []\n",
    "        flops = []\n",
    "        params = []\n",
    "        \n",
    "        for i in range(Vars.shape[0]):\n",
    "            acc = self.predictor(Vars[i]*1.0).detach().numpy()*-1\n",
    "            f,p = flops_params(Vars[i].detach().cpu().numpy())\n",
    "            accuracy.append(acc) \n",
    "            flops.append(f/100)\n",
    "            params.append(p)\n",
    "        flops = np.expand_dims(np.array(flops), axis=1)\n",
    "        params = np.expand_dims(np.array(params), axis=1)\n",
    "\n",
    "        accuracy = np.array(accuracy)\n",
    "        pop.ObjV = np.hstack([accuracy,flops,params])  # 计算目标函数值矩阵，赋值给种群对象的ObjV属性\n",
    "        # pop.CV = -Vars ** 2 + 2.5 * Vars - 1.5  # 构建违反约束程度矩阵，赋值给种群对象的CV属性\n",
    "# 实例化问题对象\n",
    "problem = EA_M(predictor)\n",
    "# 构建算法\n",
    "pop_init,pop_num = init_pop(acc=91)\n",
    "\n",
    "#soea_SEGA_templet\n",
    "# soea_DE_best_1_L_templet 13 14 34\n",
    "# soea_DE_best_1_bin_templet 15 33\n",
    "# soea_DE_currentToBest_1_L_templet 16 equal to soea_DE_targetToBest_1_bin_templet\n",
    "# soea_DE_currentToBest_1_bin_templet 17 32 44\n",
    "# soea_DE_currentToRand_1_templet 18 31\n",
    "# soea_DE_rand_1_L_templet 19 30\n",
    "# soea_DE_rand_1_bin_templet 20 29\n",
    "# soea_DE_targetToBest_1_L_templet 21 equal to soea_DE_targetToBest_1_bin_templet\n",
    "# soea_DE_targetToBest_1_bin_templet 22，27\n",
    "# soea_ES_1_plus_1_templet 23 28\n",
    "# algorithm = ea.soea_DE_currentToBest_1_bin_templet(problem,\n",
    "#                                 ea.Population(Encoding='RI', NIND=pop_num),\n",
    "#                                 MAXGEN=500,  # 最大进化代数。\n",
    "#                                 logTras=1,  # 表示每隔多少代记录一次日志信息，0表示不记录。\n",
    "#                                 trappedValue=1e-6,  # 单目标优化陷入停滞的判断阈值。\n",
    "#                                 maxTrappedCount=10)  # 进化停滞计数器最大上限值。\n",
    "\n",
    "# moea_NSGA2_templet 36\n",
    "# moea_awGA_templet 37\n",
    "# moea_psy_awGA_templet \n",
    "# updateNDSet \n",
    "# moea_MOEAD_DE_templet equal 33\n",
    "# moea_MOEAD_archive_templet equal 33\n",
    "# moea_MOEAD_templet equal 33\n",
    "# moea_NSGA2_DE_templet 38\n",
    "# moea_NSGA2_templet equal 36\n",
    "# moea_NSGA3_DE_templet 39\n",
    "# moea_PPS_MOEAD_DE_archive_templet 40\n",
    "# moea_RVEA_RES_templet 41\n",
    "# moea_RVEA_templet 42\n",
    "algorithm = ea.moea_RVEA_templet(problem,\n",
    "                                ea.Population(Encoding='RI', NIND=pop_num),\n",
    "                                MAXGEN=500,  # 最大进化代数。\n",
    "                                logTras=1,  # 表示每隔多少代记录一次日志信息，0表示不记录。\n",
    "                                trappedValue=1e-6,  # 单目标优化陷入停滞的判断阈值。\n",
    "                                maxTrappedCount=10)  # 进化停滞计数器最大上限值。\n",
    "\n",
    "# 求解\n",
    "res = ea.optimize(algorithm, seed=1, verbose=False,prophet=np.array(pop_init,dtype=np.float32), drawing=1, outputMsg=True, drawLog=False, saveFlag=False, dirName='result')\n",
    "\n",
    "# "
   ]
  },
  {
   "cell_type": "code",
   "execution_count": 3,
   "metadata": {},
   "outputs": [
    {
     "name": "stdout",
     "output_type": "stream",
     "text": [
      "-  0.875\n",
      "-  0.25\n",
      "-  1.0\n",
      "-  1.0\n",
      "-  0.125\n",
      "-  2\n",
      "-  4\n",
      "-  1\n",
      "-  1\n",
      "-  4\n",
      "[INFO] Register zero_ops() for <class 'torch.nn.modules.activation.ReLU'>.\n",
      "[INFO] Register count_convNd() for <class 'torch.nn.modules.conv.Conv2d'>.\n",
      "[INFO] Register zero_ops() for <class 'torch.nn.modules.container.Sequential'>.\n",
      "[INFO] Register count_normalization() for <class 'torch.nn.modules.batchnorm.BatchNorm2d'>.\n",
      "[INFO] Register count_avgpool() for <class 'torch.nn.modules.pooling.AvgPool2d'>.\n",
      "[INFO] Register count_adap_avgpool() for <class 'torch.nn.modules.pooling.AdaptiveAvgPool2d'>.\n",
      "[INFO] Register count_linear() for <class 'torch.nn.modules.linear.Linear'>.\n",
      "|46|2-4-1-1-4|0.875-0.25-1.0-1.0-0.125|repvgg-vgg-vgg-vgg-vgg|False-False-False-False-True|None-None-None-None-avgpool-None|cifar10|41.33|0.62||acc+flops+params|\n"
     ]
    }
   ],
   "source": [
    "import sys\n",
    "sys.path.append(\"../encode+decode/\")\n",
    "from decode import decode\n",
    "con_map = {0:\"acc+flops+params\",1:\"acc\",2:\"acc+flops\",3:\"acc+params\",4:\"flops\",5:\"params\",6:\"param+flops\"}\n",
    "n = 46\n",
    "decode(list(res['Vars'][0].astype(int)),\"cifar10\",n=n,save=True,constrain = con_map[0])  \n",
    "# decode(list(res['Vars'][0].astype(int)),\"cifar10\",n=n,save=False,constrain = con_map[0])  \n",
    "\n",
    "        "
   ]
  },
  {
   "cell_type": "code",
   "execution_count": null,
   "metadata": {},
   "outputs": [],
   "source": [
    "# 27\n",
    "[0.75, 0.75, 0.625, 0.125, 0.125]\n",
    "[2, 2, 1, 5, 4]\n",
    "# 28\n",
    "[0.5, 0.125, 0.125, 0.25, 0.875]\n",
    "[1, 4, 1, 1, 1]\n",
    "# 29\n",
    "[1.0, 0.5, 0.75, 0.125, 1.0]\n",
    "[1, 1, 1, 2, 1]\n",
    "# 30\n",
    "[1.0, 0.5, 0.5, 0.5, 0.125]\n",
    "[1, 3, 1, 1, 3]\n",
    "# 31\n",
    "[1.0, 1.0, 0.625, 0.125, 0.125]\n",
    "[2, 1, 2, 7, 4]\n",
    "# 32\n",
    "[0.375, 0.75, 0.75, 0.375, 0.375]\n",
    "[2, 1, 1, 1, 1]"
   ]
  },
  {
   "cell_type": "code",
   "execution_count": 7,
   "metadata": {},
   "outputs": [
    {
     "name": "stdout",
     "output_type": "stream",
     "text": [
      "10 2\n",
      "11 0\n",
      "12 0\n",
      "13 0\n",
      "14 0\n",
      "15 0\n"
     ]
    }
   ],
   "source": [
    "for i in range(10,16):\n",
    "    print(i,vgg16[i])"
   ]
  },
  {
   "cell_type": "code",
   "execution_count": 2,
   "metadata": {},
   "outputs": [
    {
     "name": "stdout",
     "output_type": "stream",
     "text": [
      "-  1.0\n",
      "-  1.0\n",
      "-  1.0\n",
      "-  1.0\n",
      "-  1.0\n",
      "-  2\n",
      "-  2\n",
      "-  3\n",
      "-  3\n",
      "-  3\n",
      "[False, True, True, True, True, True] [None, 'maxpool', 'maxpool', 'maxpool', 'maxpool', 'maxpool']\n",
      "[INFO] Register count_convNd() for <class 'torch.nn.modules.conv.Conv2d'>.\n",
      "[INFO] Register count_normalization() for <class 'torch.nn.modules.batchnorm.BatchNorm2d'>.\n",
      "[INFO] Register zero_ops() for <class 'torch.nn.modules.activation.ReLU'>.\n",
      "[INFO] Register zero_ops() for <class 'torch.nn.modules.container.Sequential'>.\n",
      "[INFO] Register zero_ops() for <class 'torch.nn.modules.pooling.MaxPool2d'>.\n",
      "[INFO] Register count_adap_avgpool() for <class 'torch.nn.modules.pooling.AdaptiveAvgPool2d'>.\n",
      "[INFO] Register count_linear() for <class 'torch.nn.modules.linear.Linear'>.\n",
      "|48|2-2-3-3-3|1.0-1.0-1.0-1.0-1.0|vgg-vgg-vgg-vgg-vgg|False-True-True-True-True|None-maxpool-maxpool-maxpool-maxpool-maxpool|cifar10|130.0|7.87||acc+flops+params|\n"
     ]
    }
   ],
   "source": [
    "vgg16 = [8.0,8.0,8.0,8.0,8.0,1,1,1,1,1,2,0,0,0,0,0,2,2,3,3,3]\n",
    "decode(vgg16,\"cifar10\",n=48,save=True,constrain = con_map[0])  "
   ]
  },
  {
   "cell_type": "code",
   "execution_count": 14,
   "metadata": {},
   "outputs": [
    {
     "name": "stdout",
     "output_type": "stream",
     "text": [
      "[8. 8. 8. 3. 6. 0. 0. 1. 0. 0. 2. 2. 1. 1. 1. 2. 2. 2. 5. 5. 3.]\n"
     ]
    }
   ],
   "source": [
    "import numpy as np\n",
    "def init_pop(acc=91):\n",
    "    data= np.load(\"/home/qhy/Reserach/AICAS/predictor/dataset/data-dict-980.npy\",allow_pickle=True).item()\n",
    "    pop_init = []\n",
    "    num = []\n",
    "    for k in data.keys():\n",
    "        if data[k]['acc'] > acc:\n",
    "            pop_init.append(np.array(data[k]['code'])*np.array([8]*5+[1]*16))\n",
    "            num.append(k)\n",
    "    return pop_init,len(num)\n",
    "pop_init,num = init_pop(acc=91)\n",
    "print(pop_init[0])"
   ]
  },
  {
   "cell_type": "code",
   "execution_count": 20,
   "metadata": {},
   "outputs": [
    {
     "data": {
      "text/plain": [
       "array([8, 8, 8, 3, 6, 0, 0, 1, 0, 0, 2, 2, 1, 1, 1, 2, 2, 2, 5, 5, 3],\n",
       "      dtype=int8)"
      ]
     },
     "execution_count": 20,
     "metadata": {},
     "output_type": "execute_result"
    }
   ],
   "source": [
    "np.array(pop_init[0],dtype=np.int8)"
   ]
  },
  {
   "cell_type": "code",
   "execution_count": null,
   "metadata": {},
   "outputs": [],
   "source": []
  }
 ],
 "metadata": {
  "kernelspec": {
   "display_name": "Python 3.9.15 ('torch': conda)",
   "language": "python",
   "name": "python3"
  },
  "language_info": {
   "codemirror_mode": {
    "name": "ipython",
    "version": 3
   },
   "file_extension": ".py",
   "mimetype": "text/x-python",
   "name": "python",
   "nbconvert_exporter": "python",
   "pygments_lexer": "ipython3",
   "version": "3.9.15"
  },
  "orig_nbformat": 4,
  "vscode": {
   "interpreter": {
    "hash": "9c702fa59d8122797944f957dba7be4f979da7d1929b3cf04b128c443ec5b9bd"
   }
  }
 },
 "nbformat": 4,
 "nbformat_minor": 2
}
