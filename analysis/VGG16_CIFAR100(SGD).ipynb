{
  "cells": [
    {
      "cell_type": "markdown",
      "metadata": {
        "colab_type": "text",
        "id": "view-in-github"
      },
      "source": [
        "<a href=\"https://colab.research.google.com/github/Momilijaz96/VGG16_CIFAR100_Optim/blob/main/VGG16_CIFAR100(SGD).ipynb\" target=\"_parent\"><img src=\"https://colab.research.google.com/assets/colab-badge.svg\" alt=\"Open In Colab\"/></a>"
      ]
    },
    {
      "cell_type": "code",
      "execution_count": 2,
      "metadata": {
        "colab": {
          "base_uri": "https://localhost:8080/"
        },
        "id": "bnsyueTmRuFr",
        "outputId": "5814b547-3471-448c-c0cd-cfa917d55a80"
      },
      "outputs": [],
      "source": [
        "import numpy as np\n",
        "import torch\n",
        "from torch.utils.data import DataLoader\n",
        "import torch.optim as optim\n",
        "import torch.nn as nn\n",
        "from torchvision import models,transforms,datasets\n"
      ]
    },
    {
      "cell_type": "code",
      "execution_count": 3,
      "metadata": {
        "colab": {
          "base_uri": "https://localhost:8080/"
        },
        "id": "XpLwZxqnkIvs",
        "outputId": "960eb538-4068-46cc-a846-c9487277b099"
      },
      "outputs": [
        {
          "data": {
            "text/plain": [
              "device(type='cuda')"
            ]
          },
          "execution_count": 3,
          "metadata": {},
          "output_type": "execute_result"
        }
      ],
      "source": [
        "device = torch.device('cuda' if torch.cuda.is_available() else 'cpu')\n",
        "device"
      ]
    },
    {
      "cell_type": "markdown",
      "metadata": {
        "id": "7JU1Mfvde2AG"
      },
      "source": [
        "# Import CIFAR-100 and Resize"
      ]
    },
    {
      "cell_type": "code",
      "execution_count": 17,
      "metadata": {
        "colab": {
          "base_uri": "https://localhost:8080/"
        },
        "id": "_b0GiF4QUIqL",
        "outputId": "543533ac-9d50-45f5-cfba-66f204c02ee5"
      },
      "outputs": [],
      "source": [
        "# train_transform = transforms.Compose([transforms.Resize(64),\n",
        "#                                    transforms.RandomHorizontalFlip(),\n",
        "#                                    transforms.RandomRotation(15),\n",
        "#                                    transforms.ToTensor(),\n",
        "#                                    transforms.Normalize((0.48,0.4593,0.4155),(0.2774,0.2794,0.2794))])\n",
        "train_transform =  transforms.Compose([\n",
        "            #transforms.ToPILImage(),\n",
        "            transforms.RandomCrop(32, padding=4),\n",
        "            transforms.RandomHorizontalFlip(),\n",
        "            transforms.RandomRotation(15),\n",
        "            transforms.ToTensor(),\n",
        "            transforms.Normalize((0.48,0.4593,0.4155),(0.2774,0.2794,0.2794))\n",
        "        ])\n",
        "test_transform = transforms.Compose([transforms.Resize(32),\n",
        "                                  transforms.ToTensor(),\n",
        "                                  transforms.Normalize((0.48,0.4593,0.4155),(0.2774,0.2794,0.2794))])"
      ]
    },
    {
      "cell_type": "code",
      "execution_count": 18,
      "metadata": {
        "colab": {
          "base_uri": "https://localhost:8080/"
        },
        "id": "A9nbu4BoSSj_",
        "outputId": "5f7b6f2c-0709-4658-bd7b-00e795e64366"
      },
      "outputs": [],
      "source": [
        "train_set = datasets.CIFAR100(root = '~/data/pytorch_cifar100', train = True, download = False, transform = train_transform)"
      ]
    },
    {
      "cell_type": "code",
      "execution_count": 19,
      "metadata": {
        "colab": {
          "base_uri": "https://localhost:8080/"
        },
        "id": "HrYMgq0mSXIP",
        "outputId": "8e44d10e-c174-4636-df96-881be11dc07b"
      },
      "outputs": [
        {
          "name": "stdout",
          "output_type": "stream",
          "text": [
            "Files already downloaded and verified\n"
          ]
        }
      ],
      "source": [
        "test_set = datasets.CIFAR100(root = '~/data/pytorch_cifar100', train = False, download = True, transform = test_transform)"
      ]
    },
    {
      "cell_type": "code",
      "execution_count": 7,
      "metadata": {
        "colab": {
          "base_uri": "https://localhost:8080/"
        },
        "id": "i5bLuLgL7zrF",
        "outputId": "ffa3e9c0-de02-4f85-c950-19a3887ace22"
      },
      "outputs": [
        {
          "data": {
            "text/plain": [
              "torch.Size([3, 64, 64])"
            ]
          },
          "execution_count": 7,
          "metadata": {},
          "output_type": "execute_result"
        }
      ],
      "source": [
        "train_set[0][0].shape"
      ]
    },
    {
      "cell_type": "code",
      "execution_count": 8,
      "metadata": {
        "colab": {
          "base_uri": "https://localhost:8080/"
        },
        "id": "02RU0eKt73KQ",
        "outputId": "907a367c-f932-461a-ee19-8ee81f0c954a"
      },
      "outputs": [
        {
          "data": {
            "text/plain": [
              "torch.Size([3, 64, 64])"
            ]
          },
          "execution_count": 8,
          "metadata": {},
          "output_type": "execute_result"
        }
      ],
      "source": [
        "test_set[0][0].shape"
      ]
    },
    {
      "cell_type": "markdown",
      "metadata": {
        "id": "2g65SO2tfYES"
      },
      "source": [
        "# VGG16"
      ]
    },
    {
      "cell_type": "code",
      "execution_count": 20,
      "metadata": {
        "colab": {
          "base_uri": "https://localhost:8080/"
        },
        "id": "0PJxLwDRvpPA",
        "outputId": "afc1b3c9-a0a3-4719-ee5d-0eac1c717d55"
      },
      "outputs": [],
      "source": [
        "# Number of classes in the dataset\n",
        "num_classes = 100\n",
        "\n",
        "# Batch size for training\n",
        "batch_size = 128\n",
        "\n",
        "# Number of epochs\n",
        "num_epochs = 20"
      ]
    },
    {
      "cell_type": "code",
      "execution_count": 21,
      "metadata": {
        "colab": {
          "base_uri": "https://localhost:8080/"
        },
        "id": "MdBM_c17kXNx",
        "outputId": "43e29337-569e-4d8e-b2d0-10d58b4fc22a"
      },
      "outputs": [],
      "source": [
        "vgg16_model = models.vgg16(pretrained = True) #130million+ parameters\n",
        "\n",
        "#set_parameter_requires_grad for classifier layers\n",
        "'''\n",
        "for param in vgg16_model.parameters():\n",
        "  param.requires_grad=False\n",
        "'''\n",
        "\n",
        "#Modify last layer out classes\n",
        "vgg16_model.classifier[6].out_features = num_classes\n",
        "\n",
        "vgg16_model = vgg16_model.to(device)"
      ]
    },
    {
      "cell_type": "code",
      "execution_count": 12,
      "metadata": {
        "colab": {
          "base_uri": "https://localhost:8080/"
        },
        "id": "KlCn31Vefi1e",
        "outputId": "9e38e3fb-039d-4d6a-eba6-8a996621c66a"
      },
      "outputs": [
        {
          "name": "stdout",
          "output_type": "stream",
          "text": [
            "VGG(\n",
            "  (features): Sequential(\n",
            "    (0): Conv2d(3, 64, kernel_size=(3, 3), stride=(1, 1), padding=(1, 1))\n",
            "    (1): ReLU(inplace=True)\n",
            "    (2): Conv2d(64, 64, kernel_size=(3, 3), stride=(1, 1), padding=(1, 1))\n",
            "    (3): ReLU(inplace=True)\n",
            "    (4): MaxPool2d(kernel_size=2, stride=2, padding=0, dilation=1, ceil_mode=False)\n",
            "    (5): Conv2d(64, 128, kernel_size=(3, 3), stride=(1, 1), padding=(1, 1))\n",
            "    (6): ReLU(inplace=True)\n",
            "    (7): Conv2d(128, 128, kernel_size=(3, 3), stride=(1, 1), padding=(1, 1))\n",
            "    (8): ReLU(inplace=True)\n",
            "    (9): MaxPool2d(kernel_size=2, stride=2, padding=0, dilation=1, ceil_mode=False)\n",
            "    (10): Conv2d(128, 256, kernel_size=(3, 3), stride=(1, 1), padding=(1, 1))\n",
            "    (11): ReLU(inplace=True)\n",
            "    (12): Conv2d(256, 256, kernel_size=(3, 3), stride=(1, 1), padding=(1, 1))\n",
            "    (13): ReLU(inplace=True)\n",
            "    (14): Conv2d(256, 256, kernel_size=(3, 3), stride=(1, 1), padding=(1, 1))\n",
            "    (15): ReLU(inplace=True)\n",
            "    (16): MaxPool2d(kernel_size=2, stride=2, padding=0, dilation=1, ceil_mode=False)\n",
            "    (17): Conv2d(256, 512, kernel_size=(3, 3), stride=(1, 1), padding=(1, 1))\n",
            "    (18): ReLU(inplace=True)\n",
            "    (19): Conv2d(512, 512, kernel_size=(3, 3), stride=(1, 1), padding=(1, 1))\n",
            "    (20): ReLU(inplace=True)\n",
            "    (21): Conv2d(512, 512, kernel_size=(3, 3), stride=(1, 1), padding=(1, 1))\n",
            "    (22): ReLU(inplace=True)\n",
            "    (23): MaxPool2d(kernel_size=2, stride=2, padding=0, dilation=1, ceil_mode=False)\n",
            "    (24): Conv2d(512, 512, kernel_size=(3, 3), stride=(1, 1), padding=(1, 1))\n",
            "    (25): ReLU(inplace=True)\n",
            "    (26): Conv2d(512, 512, kernel_size=(3, 3), stride=(1, 1), padding=(1, 1))\n",
            "    (27): ReLU(inplace=True)\n",
            "    (28): Conv2d(512, 512, kernel_size=(3, 3), stride=(1, 1), padding=(1, 1))\n",
            "    (29): ReLU(inplace=True)\n",
            "    (30): MaxPool2d(kernel_size=2, stride=2, padding=0, dilation=1, ceil_mode=False)\n",
            "  )\n",
            "  (avgpool): AdaptiveAvgPool2d(output_size=(7, 7))\n",
            "  (classifier): Sequential(\n",
            "    (0): Linear(in_features=25088, out_features=4096, bias=True)\n",
            "    (1): ReLU(inplace=True)\n",
            "    (2): Dropout(p=0.5, inplace=False)\n",
            "    (3): Linear(in_features=4096, out_features=4096, bias=True)\n",
            "    (4): ReLU(inplace=True)\n",
            "    (5): Dropout(p=0.5, inplace=False)\n",
            "    (6): Linear(in_features=4096, out_features=100, bias=True)\n",
            "  )\n",
            ")\n"
          ]
        }
      ],
      "source": [
        "print(vgg16_model)"
      ]
    },
    {
      "cell_type": "markdown",
      "metadata": {
        "id": "jqx8S8jIe_pM"
      },
      "source": [
        "# Training"
      ]
    },
    {
      "cell_type": "code",
      "execution_count": 22,
      "metadata": {
        "colab": {
          "base_uri": "https://localhost:8080/"
        },
        "id": "nR8nsYZ_px8S",
        "outputId": "3544d2b7-de76-46ce-8b1a-8083c07e76f2"
      },
      "outputs": [],
      "source": [
        "criterion = nn.CrossEntropyLoss()\n",
        "sgd_optimizer = optim.SGD(vgg16_model.parameters(), lr = 0.001, momentum = 0.9)\n",
        "lr_scheduler = optim.lr_scheduler.StepLR(sgd_optimizer, step_size = 10, gamma = 0.1)\n",
        "\n",
        "train_dataloader = DataLoader(train_set, batch_size = batch_size, shuffle = True)\n",
        "test_dataloader = DataLoader(test_set, batch_size = batch_size, shuffle = True)"
      ]
    },
    {
      "cell_type": "code",
      "execution_count": 23,
      "metadata": {
        "colab": {
          "base_uri": "https://localhost:8080/"
        },
        "id": "M58bUMju28j4",
        "outputId": "c3aec20b-2785-4919-e34e-7fc7adb14a34"
      },
      "outputs": [],
      "source": [
        "def fit(model, dataset, optimizer, scheduler, criterion):\n",
        "  #Set model to training mode\n",
        "  model.train()\n",
        "  scheduler.step()\n",
        "  #Iterate over data\n",
        "  for data, targets in dataset:\n",
        "    data = data.to(device)\n",
        "    targets = targets.to(device)\n",
        "    #Reset the gradients\n",
        "    optimizer.zero_grad()\n",
        "    # Generate predictions\n",
        "    out = model(data)\n",
        "    # Calculate loss\n",
        "    loss = criterion(out, targets)\n",
        "    # Backpropagation\n",
        "    loss.backward()\n",
        "    # Update model parameters\n",
        "    optimizer.step()"
      ]
    },
    {
      "cell_type": "code",
      "execution_count": 24,
      "metadata": {
        "colab": {
          "base_uri": "https://localhost:8080/"
        },
        "id": "ZSPUrB5mperN",
        "outputId": "71a7ebb3-c8b6-4a58-a1a8-9c33db9e60b2"
      },
      "outputs": [],
      "source": [
        "def validate(model, dataset, criterion):\n",
        "  #set model to evaluation mode\n",
        "  model.eval()\n",
        "  acc = 0\n",
        "  loss = []\n",
        "  for data, targets in dataset:\n",
        "    data = data.to(device)\n",
        "    targets = targets.to(device)\n",
        "    out = model(data)\n",
        "    #Get loss\n",
        "    l = criterion(out, targets)\n",
        "    loss.append(l.item())\n",
        "    #Get index of class label\n",
        "    _,preds = torch.max(out.data,1)\n",
        "    #Get accuracy\n",
        "    acc += torch.sum(preds == targets).item()\n",
        "\n",
        "  return 100*acc/len(dataset.dataset), np.mean(np.array(loss))"
      ]
    },
    {
      "cell_type": "code",
      "execution_count": 25,
      "metadata": {
        "colab": {
          "base_uri": "https://localhost:8080/"
        },
        "id": "vCp8TFGSfzYx",
        "outputId": "b60231fd-dafe-4ef2-bb3a-9f60f842563d"
      },
      "outputs": [
        {
          "name": "stdout",
          "output_type": "stream",
          "text": [
            "Epoch:1\t Train_Loss:3.9068\t Train_Acc:10.4700\t Test_Loss:3.9562\t Test_Acc:9.8500\n",
            "Epoch:2\t Train_Loss:2.9805\t Train_Acc:24.2420\t Test_Loss:2.9220\t Test_Acc:24.7600\n",
            "Epoch:3\t Train_Loss:2.5119\t Train_Acc:33.4680\t Test_Loss:2.4204\t Test_Acc:34.6300\n",
            "Epoch:4\t Train_Loss:2.2395\t Train_Acc:40.0080\t Test_Loss:2.1346\t Test_Acc:40.8900\n",
            "Epoch:5\t Train_Loss:2.0590\t Train_Acc:44.1460\t Test_Loss:1.9786\t Test_Acc:45.5300\n",
            "Epoch:6\t Train_Loss:1.8844\t Train_Acc:47.9700\t Test_Loss:1.8371\t Test_Acc:48.7000\n",
            "Epoch:7\t Train_Loss:1.8168\t Train_Acc:49.8300\t Test_Loss:1.7652\t Test_Acc:50.4600\n",
            "Epoch:8\t Train_Loss:1.7607\t Train_Acc:50.5460\t Test_Loss:1.7059\t Test_Acc:51.3400\n",
            "Epoch:9\t Train_Loss:1.6302\t Train_Acc:54.0840\t Test_Loss:1.6458\t Test_Acc:53.3300\n",
            "Epoch:10\t Train_Loss:1.5183\t Train_Acc:56.9260\t Test_Loss:1.5430\t Test_Acc:56.2500\n",
            "Epoch:11\t Train_Loss:1.4962\t Train_Acc:57.4800\t Test_Loss:1.5229\t Test_Acc:56.7200\n",
            "Epoch:12\t Train_Loss:1.4829\t Train_Acc:57.6540\t Test_Loss:1.5083\t Test_Acc:56.8800\n",
            "Epoch:13\t Train_Loss:1.4742\t Train_Acc:57.9940\t Test_Loss:1.5120\t Test_Acc:57.3200\n",
            "Epoch:14\t Train_Loss:1.4699\t Train_Acc:58.3460\t Test_Loss:1.5131\t Test_Acc:56.9700\n",
            "Epoch:15\t Train_Loss:1.4553\t Train_Acc:58.7540\t Test_Loss:1.5050\t Test_Acc:57.2600\n",
            "Epoch:16\t Train_Loss:1.4407\t Train_Acc:58.8400\t Test_Loss:1.4944\t Test_Acc:57.2100\n",
            "Epoch:17\t Train_Loss:1.4399\t Train_Acc:58.7080\t Test_Loss:1.4999\t Test_Acc:57.7500\n",
            "Epoch:18\t Train_Loss:1.4315\t Train_Acc:59.0880\t Test_Loss:1.4793\t Test_Acc:57.8500\n",
            "Epoch:19\t Train_Loss:1.4245\t Train_Acc:59.2340\t Test_Loss:1.4845\t Test_Acc:57.8500\n",
            "Epoch:20\t Train_Loss:1.4126\t Train_Acc:59.4140\t Test_Loss:1.4715\t Test_Acc:58.0800\n"
          ]
        }
      ],
      "source": [
        "train_loss = []\n",
        "train_acc = []\n",
        "test_loss = []\n",
        "test_acc = []\n",
        "\n",
        "#Loop for num_epochs\n",
        "for epoch in range(num_epochs):\n",
        "  #Fit model\n",
        "  fit(vgg16_model, train_dataloader, sgd_optimizer, lr_scheduler, criterion)\n",
        "\n",
        "  #Train validation\n",
        "  trn_acc, trn_lss = validate(vgg16_model, train_dataloader, criterion)\n",
        "  train_loss.append(trn_lss)\n",
        "  train_acc.append(trn_acc)\n",
        "\n",
        "  #Test validation\n",
        "  tst_acc, tst_lss = validate(vgg16_model, test_dataloader, criterion)\n",
        "  test_loss.append(tst_lss)\n",
        "  test_acc.append(tst_acc)\n",
        "\n",
        "  print(f'Epoch:{epoch+1}\\t Train_Loss:{train_loss[-1]:.4f}\\t Train_Acc:{train_acc[-1]:.4f}\\t Test_Loss:{test_loss[-1]:.4f}\\t Test_Acc:{test_acc[-1]:.4f}')\n"
      ]
    },
    {
      "cell_type": "markdown",
      "metadata": {
        "id": "k-3zSFVjlwcS"
      },
      "source": [
        "# Save Model"
      ]
    },
    {
      "cell_type": "code",
      "execution_count": null,
      "metadata": {
        "colab": {
          "base_uri": "https://localhost:8080/"
        },
        "id": "3igyCBlZl2A-",
        "outputId": "b83e540f-a207-4d98-e034-aabed553d0a3"
      },
      "outputs": [
        {
          "name": "stdout",
          "output_type": "stream",
          "text": [
            "time: 1.96 s (started: 2021-09-04 06:02:29 +00:00)\n"
          ]
        }
      ],
      "source": [
        "torch.save(vgg16_model.state_dict(), 'VGG16(SGD)')"
      ]
    }
  ],
  "metadata": {
    "accelerator": "GPU",
    "colab": {
      "collapsed_sections": [],
      "include_colab_link": true,
      "name": "VGG16(SGD).ipynb",
      "provenance": []
    },
    "kernelspec": {
      "display_name": "Python 3.9.15 ('torch': conda)",
      "language": "python",
      "name": "python3"
    },
    "language_info": {
      "codemirror_mode": {
        "name": "ipython",
        "version": 3
      },
      "file_extension": ".py",
      "mimetype": "text/x-python",
      "name": "python",
      "nbconvert_exporter": "python",
      "pygments_lexer": "ipython3",
      "version": "3.9.15"
    },
    "vscode": {
      "interpreter": {
        "hash": "9c702fa59d8122797944f957dba7be4f979da7d1929b3cf04b128c443ec5b9bd"
      }
    }
  },
  "nbformat": 4,
  "nbformat_minor": 0
}
